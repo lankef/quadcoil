{
 "cells": [
  {
   "cell_type": "markdown",
   "id": "eef42ade-e95c-4c88-926a-6a79843d9c4c",
   "metadata": {},
   "source": [
    "# REGCOIL\n",
    "This example reproduces REGCOIL results, and performs a Taylor test\n",
    "that compares QUADCOIL derivatives with the results yielded by \n",
    "finite-differencing many REGCOIL results. \n",
    "\n",
    "This notebook requires the regcoil branch of simsopt for running \n",
    "REGCOIL and loading data. QUADCOIL itself does not depend on \n",
    "Simsopt or REGCOIL."
   ]
  },
  {
   "cell_type": "code",
   "execution_count": 1,
   "id": "07479be7-67a5-4b2b-939b-cfceb2871ba3",
   "metadata": {},
   "outputs": [],
   "source": [
    "from quadcoil import quadcoil"
   ]
  },
  {
   "cell_type": "code",
   "execution_count": 2,
   "id": "d675e661-ee07-40f8-bcc1-a7a7572d785e",
   "metadata": {},
   "outputs": [],
   "source": [
    "import matplotlib.pyplot as plt\n",
    "import numpy as np\n",
    "import jax.numpy as jnp\n",
    "import jax\n",
    "from jax import block_until_ready\n",
    "import time"
   ]
  },
  {
   "cell_type": "code",
   "execution_count": 3,
   "id": "17b30553-4ff7-4c08-889f-ea66979d4027",
   "metadata": {},
   "outputs": [],
   "source": [
    "from simsopt.field.magneticfieldclasses import WindingSurfaceField\n",
    "from simsopt.geo import SurfaceRZFourier \n",
    "from simsopt import load\n",
    "from simsopt.field import CurrentPotentialFourier, CurrentPotentialSolve"
   ]
  },
  {
   "cell_type": "markdown",
   "id": "3ffbf122-23d7-475a-8c01-4b5b0e7f3af3",
   "metadata": {},
   "source": [
    "## Loading data"
   ]
  },
  {
   "cell_type": "code",
   "execution_count": 4,
   "id": "82b50378-9f96-45d8-80ae-53ad08b863b1",
   "metadata": {},
   "outputs": [
    {
     "name": "stderr",
     "output_type": "stream",
     "text": [
      "/home/lankef/code/simsopt/src/simsopt/_core/optimizable.py:1630: EncodingWarning: We strongly encourage explicit `encoding`, and we would use UTF-8 by default as per PEP 686\n",
      "  with zopen(filename, \"rt\") as fp:\n"
     ]
    }
   ],
   "source": [
    "winding_surface, plasma_surface = load('surfaces.json')\n",
    "net_poloidal_current_amperes = 11884578.094260072\n",
    "mpol = 4\n",
    "ntor = 4\n",
    "jax.config.update('jax_enable_x64', False)"
   ]
  },
  {
   "cell_type": "markdown",
   "id": "31af5b27-812c-46c9-9d3f-ff4cfc6a21ca",
   "metadata": {},
   "source": [
    "## Solving the REGCOIL problem (automatic winding surface)\n",
    "QUADCOIL inputs are strings and numpy/jax.numpy arrays. \n",
    "\n",
    "\n",
    "It only requires \n",
    "`from quadcoil import quadcoil`\n",
    "unless non-default winding surface generators are required.\n"
   ]
  },
  {
   "cell_type": "code",
   "execution_count": 5,
   "id": "06b04f92-7fa8-484e-b3f9-9bb30454f4a7",
   "metadata": {},
   "outputs": [
    {
     "name": "stdout",
     "output_type": "stream",
     "text": [
      "Running REGCOIL, with auto-generated winding surface\n",
      "U1, V1: 0.0, 0.0\n",
      "U1, V1: 0.10122139006853104, 421892587520.0\n",
      "U1, V1: 0.028672005981206894, 405919203328.0\n",
      "U1, V1: 0.010854233987629414, 402986336256.0\n",
      "U1, V1: 0.022639533504843712, 402028462080.0\n",
      "U1, V1: 0.017021818086504936, 401080745984.0\n",
      "g0 norm and max: 315612823552.0, 214944219136.0\n",
      "U1, V1: 0.0, 0.0\n",
      "U1, V1: 0.4402028024196625, 400490725376.0\n",
      "g0 norm and max: 519598272.0, 250777552.0\n",
      "U1, V1: 0.0, 0.0\n",
      "U1, V1: 0.2536779046058655, 400277307392.0\n",
      "g0 norm and max: 401077504.0, 239506352.0\n",
      "U1, V1: 0.0, 0.0\n",
      "U1, V1: 0.22526845335960388, 400145907712.0\n",
      "g0 norm and max: 302994944.0, 175060544.0\n",
      "U1, V1: 0.0, 0.0\n",
      "U1, V1: 0.17759259045124054, 400047243264.0\n",
      "g0 norm and max: 275131392.0, 176870768.0\n",
      "U1, V1: 0.0, 0.0\n",
      "U1, V1: 0.17371538281440735, 399982755840.0\n",
      "g0 norm and max: 224300992.0, 133368680.0\n",
      "U1, V1: 0.0, 0.0\n",
      "U1, V1: 0.14884310960769653, 399926886400.0\n",
      "g0 norm and max: 210629792.0, 123544968.0\n",
      "U1, V1: 0.0, 0.0\n",
      "U1, V1: 0.14719004929065704, 399886123008.0\n",
      "g0 norm and max: 173438880.0, 105326880.0\n",
      "U1, V1: 0.0, 0.0\n",
      "U1, V1: 0.12605951726436615, 399850045440.0\n",
      "g0 norm and max: 157003360.0, 94797592.0\n",
      "U1, V1: 0.0, 0.0\n",
      "U1, V1: 0.11808183789253235, 399823536128.0\n",
      "g0 norm and max: 130247256.0, 84707904.0\n",
      "U1, V1: 0.0, 0.0\n",
      "U1, V1: 0.1000002846121788, 399801679872.0\n",
      "g0 norm and max: 117080488.0, 74835392.0\n",
      "U1, V1: 0.0, 0.0\n",
      "U1, V1: 0.09446708858013153, 399785852928.0\n",
      "g0 norm and max: 97840808.0, 66286968.0\n",
      "U1, V1: 0.0, 0.0\n",
      "U1, V1: 0.0839691162109375, 399772876800.0\n",
      "g0 norm and max: 88263640.0, 57525252.0\n",
      "U1, V1: 0.0, 0.0\n",
      "U1, V1: 0.08171643316745758, 399766028288.0\n",
      "g0 norm and max: 74244160.0, 52594788.0\n",
      "U1, V1: 0.0, 0.0\n",
      "U1, V1: 0.068631112575531, 399759998976.0\n",
      "g0 norm and max: 71272992.0, 47121708.0\n",
      "U1, V1: 0.0, 0.0\n",
      "U1, V1: 0.06357814371585846, 399753609216.0\n",
      "g0 norm and max: 59586944.0, 40885236.0\n",
      "U1, V1: 0.0, 0.0\n",
      "U1, V1: 0.04575590789318085, 399748464640.0\n",
      "g0 norm and max: 52598712.0, 34605872.0\n",
      "U1, V1: 0.0, 0.0\n",
      "U1, V1: 0.05089499056339264, 399746301952.0\n",
      "g0 norm and max: 44560956.0, 31840448.0\n",
      "U1, V1: 0.0, 0.0\n",
      "U1, V1: 0.0340646393597126, 399743123456.0\n",
      "g0 norm and max: 41734948.0, 26556416.0\n",
      "U1, V1: 0.0, 0.0\n",
      "U1, V1: 0.04048118740320206, 399741878272.0\n",
      "g0 norm and max: 33272516.0, 24540794.0\n",
      "U1, V1: 0.0, 0.0\n",
      "U1, V1: 0.02581043541431427, 399739879424.0\n",
      "g0 norm and max: 32640082.0, 20162764.0\n",
      "U1, V1: 0.0, 0.0\n",
      "U1, V1: 0.031507689505815506, 399739125760.0\n",
      "g0 norm and max: 24913218.0, 18677778.0\n",
      "U1, V1: 0.0, 0.0\n",
      "U1, V1: 0.02290090173482895, 399737978880.0\n",
      "g0 norm and max: 23650036.0, 15184261.0\n",
      "U1, V1: 0.0, 0.0\n",
      "U1, V1: 0.020359372720122337, 399737290752.0\n",
      "g0 norm and max: 17857572.0, 13092790.0\n",
      "U1, V1: 0.0, 0.0\n",
      "U1, V1: 0.01726834662258625, 399736930304.0\n",
      "g0 norm and max: 18314678.0, 11597965.0\n",
      "U1, V1: 0.0, 0.0\n",
      "U1, V1: 0.01652216538786888, 399736635392.0\n",
      "g0 norm and max: 14318649.0, 10554495.0\n",
      "U1, V1: 0.0, 0.0\n",
      "U1, V1: 0.013686207123100758, 399736471552.0\n",
      "g0 norm and max: 14846761.0, 9318994.0\n",
      "U1, V1: 0.0, 0.0\n",
      "U1, V1: 0.012978724204003811, 399736274944.0\n",
      "g0 norm and max: 11610927.0, 8501648.0\n",
      "U1, V1: 0.0, 0.0\n",
      "U1, V1: 0.011120685376226902, 399736111104.0\n",
      "g0 norm and max: 11875621.0, 7539233.0\n",
      "U1, V1: 0.0, 0.0\n",
      "U1, V1: 0.01069892942905426, 399735980032.0\n",
      "g0 norm and max: 9280142.0, 6862196.5\n",
      "U1, V1: 0.0, 0.0\n",
      "U1, V1: 0.00866807159036398, 399735881728.0\n",
      "g0 norm and max: 9659902.0, 6047578.0\n",
      "U1, V1: 0.0, 0.0\n",
      "U1, V1: 0.008274096995592117, 399735816192.0\n",
      "g0 norm and max: 7552277.0, 5525696.0\n",
      "U1, V1: 0.0, 0.0\n",
      "U1, V1: 0.007448139600455761, 399735783424.0\n",
      "g0 norm and max: 7710894.0, 4902507.0\n",
      "U1, V1: 0.0, 0.0\n",
      "U1, V1: 0.006984316743910313, 399735685120.0\n",
      "g0 norm and max: 6036165.5, 4464919.5\n",
      "U1, V1: 0.0, 0.0\n",
      "U1, V1: 0.005197806283831596, 399735652352.0\n",
      "g0 norm and max: 6272402.5, 3934421.25\n",
      "U1, V1: 0.0, 0.0\n",
      "U1, V1: 0.004984373226761818, 399735619584.0\n",
      "g0 norm and max: 4911828.5, 3596771.0\n"
     ]
    }
   ],
   "source": [
    "# First, test with the REGCOIL problem, auto-generating WS.\n",
    "print('Running REGCOIL, with auto-generated winding surface')\n",
    "regcoil1_out_dict, regcoil1_qp, regcoil1_phi_mn, status = quadcoil(\n",
    "    nfp=plasma_surface.nfp,\n",
    "    stellsym=plasma_surface.stellsym,\n",
    "    mpol=mpol,\n",
    "    ntor=ntor,\n",
    "    plasma_dofs=plasma_surface.get_dofs(),\n",
    "    plasma_mpol=plasma_surface.mpol,\n",
    "    plasma_ntor=plasma_surface.ntor,\n",
    "    net_poloidal_current_amperes=net_poloidal_current_amperes,\n",
    "    net_toroidal_current_amperes=0.,\n",
    "    plasma_coil_distance=plasma_surface.minor_radius(),\n",
    "    # Set the objective to \n",
    "    # f_B + 0.01 f_K\n",
    "    objective_name=('f_B', 'f_K'),\n",
    "    objective_weight=np.array([1., 0.01]),\n",
    "    # Usually we recommend normalizing f_B and f_K to \n",
    "    # ~1, but in this case, for testing prupose, not normalizing \n",
    "    # is also okay\n",
    "    objective_unit=(1., 1.), \n",
    "    # Set the output metrics to f_B and f_K\n",
    "    metric_name=('f_B', 'f_K')\n",
    ")"
   ]
  },
  {
   "cell_type": "code",
   "execution_count": 7,
   "id": "f2e13a1f-a624-4ea8-859d-da09a8d315e0",
   "metadata": {},
   "outputs": [
    {
     "name": "stderr",
     "output_type": "stream",
     "text": [
      "/home/lankef/code/simsopt/src/simsopt/field/currentpotentialsolve.py:76: UserWarning: Beware: the f_B (also called chi^2_B) computed from the CurrentPotentialSolve class will be slightly different than the f_B computed using SquaredFlux with the BiotSavart law implemented in WindingSurfaceField. This is because the optimization formulation and the full BiotSavart calculation are discretized in different ways. This disagreement will worsen at low regularization, but improve with higher resolution on the plasma and coil surfaces. \n",
      "  warnings.warn(\n"
     ]
    },
    {
     "name": "stdout",
     "output_type": "stream",
     "text": [
      "QUADCOIL f_B: 0.94828874\n",
      "REGCOIL f_B:  0.9495867431075176\n"
     ]
    },
    {
     "data": {
      "image/png": "[encoded data removed]",
      "text/plain": [
       "<Figure size 640x480 with 1 Axes>"
      ]
     },
     "metadata": {},
     "output_type": "display_data"
    }
   ],
   "source": [
    "# Extract the winding surface and run REGCOIL\n",
    "ws1 = regcoil1_qp.winding_surface.to_simsopt()\n",
    "cp1 = CurrentPotentialFourier(\n",
    "    ws1, mpol=mpol, ntor=ntor,\n",
    "    net_poloidal_current_amperes=net_poloidal_current_amperes,\n",
    "    net_toroidal_current_amperes=0.,\n",
    "    stellsym=True)\n",
    "cpst1 = CurrentPotentialSolve(cp1, plasma_surface, 0)\n",
    "regcoil1_phi_mn_ans, regcoil1_f_B_ans, regcoil1_f_K_ans = cpst1.solve_tikhonov(lam=0.01)\n",
    "plt.title('Fourier coefficients of the current potential')\n",
    "plt.plot(regcoil1_phi_mn, label='REGCOIL sln (from QUADCOIL)')\n",
    "plt.plot(regcoil1_phi_mn_ans, label='REGCOIL sln (from Simsopt) ')\n",
    "plt.legend()\n",
    "print('QUADCOIL f_B:', regcoil1_out_dict['f_B']['value'])\n",
    "print('REGCOIL f_B: ', regcoil1_f_B_ans)"
   ]
  },
  {
   "cell_type": "markdown",
   "id": "4b0ae402-2acf-4c88-915d-c656f6336ad8",
   "metadata": {},
   "source": [
    "## Running the REGCOIL problem (given winding surface)"
   ]
  },
  {
   "cell_type": "code",
   "execution_count": 8,
   "id": "5812c5d9-ce56-4f68-b9dd-3697ee8e4369",
   "metadata": {},
   "outputs": [
    {
     "name": "stdout",
     "output_type": "stream",
     "text": [
      "Testing REGCOIL, with known winding surface\n"
     ]
    },
    {
     "ename": "KeyboardInterrupt",
     "evalue": "",
     "output_type": "error",
     "traceback": [
      "\u001b[0;31m---------------------------------------------------------------------------\u001b[0m",
      "\u001b[0;31mKeyboardInterrupt\u001b[0m                         Traceback (most recent call last)",
      "Cell \u001b[0;32mIn[8], line 3\u001b[0m\n\u001b[1;32m      1\u001b[0m \u001b[38;5;66;03m# Then, test with REGCOIL, given winding surface.\u001b[39;00m\n\u001b[1;32m      2\u001b[0m \u001b[38;5;28mprint\u001b[39m(\u001b[38;5;124m'\u001b[39m\u001b[38;5;124mTesting REGCOIL, with known winding surface\u001b[39m\u001b[38;5;124m'\u001b[39m)\n\u001b[0;32m----> 3\u001b[0m regcoil2_out_dict, regcoil2_qp, regcoil2_phi_mn, _ \u001b[38;5;241m=\u001b[39m quadcoil(\n\u001b[1;32m      4\u001b[0m     nfp\u001b[38;5;241m=\u001b[39mplasma_surface\u001b[38;5;241m.\u001b[39mnfp,\n\u001b[1;32m      5\u001b[0m     stellsym\u001b[38;5;241m=\u001b[39mplasma_surface\u001b[38;5;241m.\u001b[39mstellsym,\n\u001b[1;32m      6\u001b[0m     mpol\u001b[38;5;241m=\u001b[39mmpol,\n\u001b[1;32m      7\u001b[0m     ntor\u001b[38;5;241m=\u001b[39mntor,\n\u001b[1;32m      8\u001b[0m     plasma_dofs\u001b[38;5;241m=\u001b[39mplasma_surface\u001b[38;5;241m.\u001b[39mget_dofs(),\n\u001b[1;32m      9\u001b[0m     plasma_mpol\u001b[38;5;241m=\u001b[39mplasma_surface\u001b[38;5;241m.\u001b[39mmpol,\n\u001b[1;32m     10\u001b[0m     plasma_ntor\u001b[38;5;241m=\u001b[39mplasma_surface\u001b[38;5;241m.\u001b[39mntor,\n\u001b[1;32m     11\u001b[0m     net_poloidal_current_amperes\u001b[38;5;241m=\u001b[39mnet_poloidal_current_amperes,\n\u001b[1;32m     12\u001b[0m     net_toroidal_current_amperes\u001b[38;5;241m=\u001b[39m\u001b[38;5;241m0.\u001b[39m,\n\u001b[1;32m     13\u001b[0m     winding_dofs\u001b[38;5;241m=\u001b[39mwinding_surface\u001b[38;5;241m.\u001b[39mget_dofs(),\n\u001b[1;32m     14\u001b[0m     winding_mpol\u001b[38;5;241m=\u001b[39mwinding_surface\u001b[38;5;241m.\u001b[39mmpol,\n\u001b[1;32m     15\u001b[0m     winding_ntor\u001b[38;5;241m=\u001b[39mwinding_surface\u001b[38;5;241m.\u001b[39mntor,\n\u001b[1;32m     16\u001b[0m     winding_quadpoints_phi\u001b[38;5;241m=\u001b[39mwinding_surface\u001b[38;5;241m.\u001b[39mquadpoints_phi,\n\u001b[1;32m     17\u001b[0m     winding_quadpoints_theta\u001b[38;5;241m=\u001b[39mwinding_surface\u001b[38;5;241m.\u001b[39mquadpoints_theta,\n\u001b[1;32m     18\u001b[0m     objective_name\u001b[38;5;241m=\u001b[39m(\u001b[38;5;124m'\u001b[39m\u001b[38;5;124mf_B\u001b[39m\u001b[38;5;124m'\u001b[39m, \u001b[38;5;124m'\u001b[39m\u001b[38;5;124mf_K\u001b[39m\u001b[38;5;124m'\u001b[39m),\n\u001b[1;32m     19\u001b[0m     objective_weight\u001b[38;5;241m=\u001b[39mnp\u001b[38;5;241m.\u001b[39marray([\u001b[38;5;241m1.\u001b[39m, \u001b[38;5;241m0.01\u001b[39m]),\n\u001b[1;32m     20\u001b[0m     objective_unit\u001b[38;5;241m=\u001b[39m(\u001b[38;5;241m1.\u001b[39m, \u001b[38;5;241m1.\u001b[39m),\n\u001b[1;32m     21\u001b[0m     metric_name\u001b[38;5;241m=\u001b[39m(\u001b[38;5;124m'\u001b[39m\u001b[38;5;124mf_B\u001b[39m\u001b[38;5;124m'\u001b[39m, \u001b[38;5;124m'\u001b[39m\u001b[38;5;124mf_K\u001b[39m\u001b[38;5;124m'\u001b[39m)\n\u001b[1;32m     22\u001b[0m )\n",
      "    \u001b[0;31m[... skipping hidden 1 frame]\u001b[0m\n",
      "File \u001b[0;32m~/.conda/envs/stellarator/lib/python3.12/site-packages/jax/_src/pjit.py:337\u001b[0m, in \u001b[0;36m_cpp_pjit.<locals>.cache_miss\u001b[0;34m(*args, **kwargs)\u001b[0m\n\u001b[1;32m    332\u001b[0m \u001b[38;5;28;01mif\u001b[39;00m config\u001b[38;5;241m.\u001b[39mno_tracing\u001b[38;5;241m.\u001b[39mvalue:\n\u001b[1;32m    333\u001b[0m   \u001b[38;5;28;01mraise\u001b[39;00m \u001b[38;5;167;01mRuntimeError\u001b[39;00m(\u001b[38;5;124mf\u001b[39m\u001b[38;5;124m\"\u001b[39m\u001b[38;5;124mre-tracing function \u001b[39m\u001b[38;5;132;01m{\u001b[39;00mjit_info\u001b[38;5;241m.\u001b[39mfun_sourceinfo\u001b[38;5;132;01m}\u001b[39;00m\u001b[38;5;124m for \u001b[39m\u001b[38;5;124m\"\u001b[39m\n\u001b[1;32m    334\u001b[0m                      \u001b[38;5;124m\"\u001b[39m\u001b[38;5;124m`jit`, but \u001b[39m\u001b[38;5;124m'\u001b[39m\u001b[38;5;124mno_tracing\u001b[39m\u001b[38;5;124m'\u001b[39m\u001b[38;5;124m is set\u001b[39m\u001b[38;5;124m\"\u001b[39m)\n\u001b[1;32m    336\u001b[0m (outs, out_flat, out_tree, args_flat, jaxpr, attrs_tracked, executable,\n\u001b[0;32m--> 337\u001b[0m  pgle_profiler) \u001b[38;5;241m=\u001b[39m _python_pjit_helper(fun, jit_info, \u001b[38;5;241m*\u001b[39margs, \u001b[38;5;241m*\u001b[39m\u001b[38;5;241m*\u001b[39mkwargs)\n\u001b[1;32m    339\u001b[0m maybe_fastpath_data \u001b[38;5;241m=\u001b[39m _get_fastpath_data(\n\u001b[1;32m    340\u001b[0m     executable, out_tree, args_flat, out_flat, attrs_tracked, jaxpr\u001b[38;5;241m.\u001b[39meffects,\n\u001b[1;32m    341\u001b[0m     jaxpr\u001b[38;5;241m.\u001b[39mconsts, jit_info\u001b[38;5;241m.\u001b[39mabstracted_axes,\n\u001b[1;32m    342\u001b[0m     pgle_profiler)\n\u001b[1;32m    344\u001b[0m \u001b[38;5;28;01mreturn\u001b[39;00m outs, maybe_fastpath_data, _need_to_rebuild_with_fdo(pgle_profiler)\n",
      "File \u001b[0;32m~/.conda/envs/stellarator/lib/python3.12/site-packages/jax/_src/pjit.py:195\u001b[0m, in \u001b[0;36m_python_pjit_helper\u001b[0;34m(fun, jit_info, *args, **kwargs)\u001b[0m\n\u001b[1;32m    193\u001b[0m   args_flat \u001b[38;5;241m=\u001b[39m \u001b[38;5;28mmap\u001b[39m(core\u001b[38;5;241m.\u001b[39mfull_lower, args_flat)\n\u001b[1;32m    194\u001b[0m   core\u001b[38;5;241m.\u001b[39mcheck_eval_args(args_flat)\n\u001b[0;32m--> 195\u001b[0m   out_flat, compiled, profiler \u001b[38;5;241m=\u001b[39m _pjit_call_impl_python(\u001b[38;5;241m*\u001b[39margs_flat, \u001b[38;5;241m*\u001b[39m\u001b[38;5;241m*\u001b[39mp\u001b[38;5;241m.\u001b[39mparams)\n\u001b[1;32m    196\u001b[0m \u001b[38;5;28;01melse\u001b[39;00m:\n\u001b[1;32m    197\u001b[0m   out_flat \u001b[38;5;241m=\u001b[39m pjit_p\u001b[38;5;241m.\u001b[39mbind(\u001b[38;5;241m*\u001b[39margs_flat, \u001b[38;5;241m*\u001b[39m\u001b[38;5;241m*\u001b[39mp\u001b[38;5;241m.\u001b[39mparams)\n",
      "File \u001b[0;32m~/.conda/envs/stellarator/lib/python3.12/site-packages/jax/_src/pjit.py:1672\u001b[0m, in \u001b[0;36m_pjit_call_impl_python\u001b[0;34m(jaxpr, in_shardings, out_shardings, in_layouts, out_layouts, resource_env, donated_invars, name, keep_unused, inline, compiler_options_kvs, *args)\u001b[0m\n\u001b[1;32m   1660\u001b[0m compiler_options_kvs \u001b[38;5;241m=\u001b[39m compiler_options_kvs \u001b[38;5;241m+\u001b[39m \u001b[38;5;28mtuple\u001b[39m(pgle_compile_options\u001b[38;5;241m.\u001b[39mitems())\n\u001b[1;32m   1661\u001b[0m \u001b[38;5;66;03m# Passing mutable PGLE profile here since it should be extracted by JAXPR to\u001b[39;00m\n\u001b[1;32m   1662\u001b[0m \u001b[38;5;66;03m# initialize the fdo_profile compile option.\u001b[39;00m\n\u001b[1;32m   1663\u001b[0m compiled \u001b[38;5;241m=\u001b[39m _resolve_and_lower(\n\u001b[1;32m   1664\u001b[0m     args, jaxpr\u001b[38;5;241m=\u001b[39mjaxpr, in_shardings\u001b[38;5;241m=\u001b[39min_shardings,\n\u001b[1;32m   1665\u001b[0m     out_shardings\u001b[38;5;241m=\u001b[39mout_shardings, in_layouts\u001b[38;5;241m=\u001b[39min_layouts,\n\u001b[1;32m   1666\u001b[0m     out_layouts\u001b[38;5;241m=\u001b[39mout_layouts, resource_env\u001b[38;5;241m=\u001b[39mresource_env,\n\u001b[1;32m   1667\u001b[0m     donated_invars\u001b[38;5;241m=\u001b[39mdonated_invars, name\u001b[38;5;241m=\u001b[39mname, keep_unused\u001b[38;5;241m=\u001b[39mkeep_unused,\n\u001b[1;32m   1668\u001b[0m     inline\u001b[38;5;241m=\u001b[39minline, lowering_platforms\u001b[38;5;241m=\u001b[39m\u001b[38;5;28;01mNone\u001b[39;00m,\n\u001b[1;32m   1669\u001b[0m     lowering_parameters\u001b[38;5;241m=\u001b[39mmlir\u001b[38;5;241m.\u001b[39mLoweringParameters(),\n\u001b[1;32m   1670\u001b[0m     pgle_profiler\u001b[38;5;241m=\u001b[39mpgle_profiler,\n\u001b[1;32m   1671\u001b[0m     compiler_options_kvs\u001b[38;5;241m=\u001b[39mcompiler_options_kvs,\n\u001b[0;32m-> 1672\u001b[0m )\u001b[38;5;241m.\u001b[39mcompile()\n\u001b[1;32m   1674\u001b[0m \u001b[38;5;66;03m# This check is expensive so only do it if enable_checks is on.\u001b[39;00m\n\u001b[1;32m   1675\u001b[0m \u001b[38;5;28;01mif\u001b[39;00m compiled\u001b[38;5;241m.\u001b[39m_auto_spmd_lowering \u001b[38;5;129;01mand\u001b[39;00m config\u001b[38;5;241m.\u001b[39menable_checks\u001b[38;5;241m.\u001b[39mvalue:\n",
      "File \u001b[0;32m~/.conda/envs/stellarator/lib/python3.12/site-packages/jax/_src/interpreters/pxla.py:2415\u001b[0m, in \u001b[0;36mMeshComputation.compile\u001b[0;34m(self, compiler_options)\u001b[0m\n\u001b[1;32m   2413\u001b[0m compiler_options_kvs \u001b[38;5;241m=\u001b[39m \u001b[38;5;28mself\u001b[39m\u001b[38;5;241m.\u001b[39m_compiler_options_kvs \u001b[38;5;241m+\u001b[39m t_compiler_options\n\u001b[1;32m   2414\u001b[0m \u001b[38;5;28;01mif\u001b[39;00m \u001b[38;5;28mself\u001b[39m\u001b[38;5;241m.\u001b[39m_executable \u001b[38;5;129;01mis\u001b[39;00m \u001b[38;5;28;01mNone\u001b[39;00m \u001b[38;5;129;01mor\u001b[39;00m compiler_options_kvs:\n\u001b[0;32m-> 2415\u001b[0m   executable \u001b[38;5;241m=\u001b[39m UnloadedMeshExecutable\u001b[38;5;241m.\u001b[39mfrom_hlo(\n\u001b[1;32m   2416\u001b[0m       \u001b[38;5;28mself\u001b[39m\u001b[38;5;241m.\u001b[39m_name, \u001b[38;5;28mself\u001b[39m\u001b[38;5;241m.\u001b[39m_hlo, \u001b[38;5;241m*\u001b[39m\u001b[38;5;241m*\u001b[39m\u001b[38;5;28mself\u001b[39m\u001b[38;5;241m.\u001b[39mcompile_args,\n\u001b[1;32m   2417\u001b[0m       compiler_options_kvs\u001b[38;5;241m=\u001b[39mcompiler_options_kvs)\n\u001b[1;32m   2418\u001b[0m   \u001b[38;5;28;01mif\u001b[39;00m \u001b[38;5;129;01mnot\u001b[39;00m compiler_options_kvs:\n\u001b[1;32m   2419\u001b[0m     \u001b[38;5;28mself\u001b[39m\u001b[38;5;241m.\u001b[39m_executable \u001b[38;5;241m=\u001b[39m executable\n",
      "File \u001b[0;32m~/.conda/envs/stellarator/lib/python3.12/site-packages/jax/_src/interpreters/pxla.py:2923\u001b[0m, in \u001b[0;36mUnloadedMeshExecutable.from_hlo\u001b[0;34m(***failed resolving arguments***)\u001b[0m\n\u001b[1;32m   2920\u001b[0m       \u001b[38;5;28;01mbreak\u001b[39;00m\n\u001b[1;32m   2922\u001b[0m util\u001b[38;5;241m.\u001b[39mtest_event(\u001b[38;5;124m\"\u001b[39m\u001b[38;5;124mpxla_cached_compilation\u001b[39m\u001b[38;5;124m\"\u001b[39m)\n\u001b[0;32m-> 2923\u001b[0m xla_executable \u001b[38;5;241m=\u001b[39m _cached_compilation(\n\u001b[1;32m   2924\u001b[0m     hlo, name, mesh, spmd_lowering,\n\u001b[1;32m   2925\u001b[0m     tuple_args, auto_spmd_lowering, allow_prop_to_inputs,\n\u001b[1;32m   2926\u001b[0m     allow_prop_to_outputs, \u001b[38;5;28mtuple\u001b[39m(host_callbacks), backend, da, pmap_nreps,\n\u001b[1;32m   2927\u001b[0m     compiler_options_kvs, pgle_profiler)\n\u001b[1;32m   2929\u001b[0m \u001b[38;5;28;01mif\u001b[39;00m auto_spmd_lowering:\n\u001b[1;32m   2930\u001b[0m   \u001b[38;5;28;01massert\u001b[39;00m mesh \u001b[38;5;129;01mis\u001b[39;00m \u001b[38;5;129;01mnot\u001b[39;00m \u001b[38;5;28;01mNone\u001b[39;00m\n",
      "File \u001b[0;32m~/.conda/envs/stellarator/lib/python3.12/site-packages/jax/_src/interpreters/pxla.py:2729\u001b[0m, in \u001b[0;36m_cached_compilation\u001b[0;34m(computation, name, mesh, spmd_lowering, tuple_args, auto_spmd_lowering, allow_prop_to_inputs, allow_prop_to_outputs, host_callbacks, backend, da, pmap_nreps, compiler_options_kvs, pgle_profiler)\u001b[0m\n\u001b[1;32m   2721\u001b[0m compile_options \u001b[38;5;241m=\u001b[39m create_compile_options(\n\u001b[1;32m   2722\u001b[0m     computation, mesh, spmd_lowering, tuple_args, auto_spmd_lowering,\n\u001b[1;32m   2723\u001b[0m     allow_prop_to_inputs, allow_prop_to_outputs, backend,\n\u001b[1;32m   2724\u001b[0m     dev, pmap_nreps, compiler_options)\n\u001b[1;32m   2726\u001b[0m \u001b[38;5;28;01mwith\u001b[39;00m dispatch\u001b[38;5;241m.\u001b[39mlog_elapsed_time(\n\u001b[1;32m   2727\u001b[0m     \u001b[38;5;124m\"\u001b[39m\u001b[38;5;124mFinished XLA compilation of \u001b[39m\u001b[38;5;132;01m{fun_name}\u001b[39;00m\u001b[38;5;124m in \u001b[39m\u001b[38;5;132;01m{elapsed_time:.9f}\u001b[39;00m\u001b[38;5;124m sec\u001b[39m\u001b[38;5;124m\"\u001b[39m,\n\u001b[1;32m   2728\u001b[0m     fun_name\u001b[38;5;241m=\u001b[39mname, event\u001b[38;5;241m=\u001b[39mdispatch\u001b[38;5;241m.\u001b[39mBACKEND_COMPILE_EVENT):\n\u001b[0;32m-> 2729\u001b[0m   xla_executable \u001b[38;5;241m=\u001b[39m compiler\u001b[38;5;241m.\u001b[39mcompile_or_get_cached(\n\u001b[1;32m   2730\u001b[0m       backend, computation, dev, compile_options, host_callbacks,\n\u001b[1;32m   2731\u001b[0m       pgle_profiler)\n\u001b[1;32m   2732\u001b[0m \u001b[38;5;28;01mreturn\u001b[39;00m xla_executable\n",
      "File \u001b[0;32m~/.conda/envs/stellarator/lib/python3.12/site-packages/jax/_src/compiler.py:452\u001b[0m, in \u001b[0;36mcompile_or_get_cached\u001b[0;34m(backend, computation, devices, compile_options, host_callbacks, pgle_profiler)\u001b[0m\n\u001b[1;32m    450\u001b[0m \u001b[38;5;28;01melse\u001b[39;00m:\n\u001b[1;32m    451\u001b[0m   log_persistent_cache_miss(module_name, cache_key)\n\u001b[0;32m--> 452\u001b[0m   \u001b[38;5;28;01mreturn\u001b[39;00m _compile_and_write_cache(\n\u001b[1;32m    453\u001b[0m       backend,\n\u001b[1;32m    454\u001b[0m       computation,\n\u001b[1;32m    455\u001b[0m       compile_options,\n\u001b[1;32m    456\u001b[0m       host_callbacks,\n\u001b[1;32m    457\u001b[0m       module_name,\n\u001b[1;32m    458\u001b[0m       cache_key,\n\u001b[1;32m    459\u001b[0m   )\n",
      "File \u001b[0;32m~/.conda/envs/stellarator/lib/python3.12/site-packages/jax/_src/compiler.py:653\u001b[0m, in \u001b[0;36m_compile_and_write_cache\u001b[0;34m(backend, computation, compile_options, host_callbacks, module_name, cache_key)\u001b[0m\n\u001b[1;32m    644\u001b[0m \u001b[38;5;28;01mdef\u001b[39;00m \u001b[38;5;21m_compile_and_write_cache\u001b[39m(\n\u001b[1;32m    645\u001b[0m     backend: xc\u001b[38;5;241m.\u001b[39mClient,\n\u001b[1;32m    646\u001b[0m     computation: ir\u001b[38;5;241m.\u001b[39mModule,\n\u001b[0;32m   (...)\u001b[0m\n\u001b[1;32m    650\u001b[0m     cache_key: \u001b[38;5;28mstr\u001b[39m,\n\u001b[1;32m    651\u001b[0m ) \u001b[38;5;241m-\u001b[39m\u001b[38;5;241m>\u001b[39m xc\u001b[38;5;241m.\u001b[39mLoadedExecutable:\n\u001b[1;32m    652\u001b[0m   start_time \u001b[38;5;241m=\u001b[39m time\u001b[38;5;241m.\u001b[39mmonotonic()\n\u001b[0;32m--> 653\u001b[0m   executable \u001b[38;5;241m=\u001b[39m backend_compile(\n\u001b[1;32m    654\u001b[0m       backend, computation, compile_options, host_callbacks\n\u001b[1;32m    655\u001b[0m   )\n\u001b[1;32m    656\u001b[0m   compile_time \u001b[38;5;241m=\u001b[39m time\u001b[38;5;241m.\u001b[39mmonotonic() \u001b[38;5;241m-\u001b[39m start_time\n\u001b[1;32m    657\u001b[0m   _cache_write(\n\u001b[1;32m    658\u001b[0m       cache_key, compile_time, module_name, backend, executable, host_callbacks\n\u001b[1;32m    659\u001b[0m   )\n",
      "File \u001b[0;32m~/.conda/envs/stellarator/lib/python3.12/site-packages/jax/_src/profiler.py:333\u001b[0m, in \u001b[0;36mannotate_function.<locals>.wrapper\u001b[0;34m(*args, **kwargs)\u001b[0m\n\u001b[1;32m    330\u001b[0m \u001b[38;5;129m@wraps\u001b[39m(func)\n\u001b[1;32m    331\u001b[0m \u001b[38;5;28;01mdef\u001b[39;00m \u001b[38;5;21mwrapper\u001b[39m(\u001b[38;5;241m*\u001b[39margs, \u001b[38;5;241m*\u001b[39m\u001b[38;5;241m*\u001b[39mkwargs):\n\u001b[1;32m    332\u001b[0m   \u001b[38;5;28;01mwith\u001b[39;00m TraceAnnotation(name, \u001b[38;5;241m*\u001b[39m\u001b[38;5;241m*\u001b[39mdecorator_kwargs):\n\u001b[0;32m--> 333\u001b[0m     \u001b[38;5;28;01mreturn\u001b[39;00m func(\u001b[38;5;241m*\u001b[39margs, \u001b[38;5;241m*\u001b[39m\u001b[38;5;241m*\u001b[39mkwargs)\n\u001b[1;32m    334\u001b[0m   \u001b[38;5;28;01mreturn\u001b[39;00m wrapper\n",
      "File \u001b[0;32m~/.conda/envs/stellarator/lib/python3.12/site-packages/jax/_src/compiler.py:297\u001b[0m, in \u001b[0;36mbackend_compile\u001b[0;34m(backend, module, options, host_callbacks)\u001b[0m\n\u001b[1;32m    293\u001b[0m \u001b[38;5;28;01mtry\u001b[39;00m:\n\u001b[1;32m    294\u001b[0m   \u001b[38;5;66;03m# we use a separate function call to ensure that XLA compilation appears\u001b[39;00m\n\u001b[1;32m    295\u001b[0m   \u001b[38;5;66;03m# separately in Python profiling results\u001b[39;00m\n\u001b[1;32m    296\u001b[0m   \u001b[38;5;28;01mif\u001b[39;00m host_callbacks:\n\u001b[0;32m--> 297\u001b[0m     \u001b[38;5;28;01mreturn\u001b[39;00m backend\u001b[38;5;241m.\u001b[39mcompile(\n\u001b[1;32m    298\u001b[0m         built_c, compile_options\u001b[38;5;241m=\u001b[39moptions, host_callbacks\u001b[38;5;241m=\u001b[39mhost_callbacks\n\u001b[1;32m    299\u001b[0m     )\n\u001b[1;32m    300\u001b[0m   \u001b[38;5;66;03m# Some backends don't have `host_callbacks` option yet\u001b[39;00m\n\u001b[1;32m    301\u001b[0m   \u001b[38;5;66;03m# TODO(sharadmv): remove this fallback when all backends allow `compile`\u001b[39;00m\n\u001b[1;32m    302\u001b[0m   \u001b[38;5;66;03m# to take in `host_callbacks`\u001b[39;00m\n\u001b[1;32m    303\u001b[0m   \u001b[38;5;28;01mreturn\u001b[39;00m backend\u001b[38;5;241m.\u001b[39mcompile(built_c, compile_options\u001b[38;5;241m=\u001b[39moptions)\n",
      "\u001b[0;31mKeyboardInterrupt\u001b[0m: "
     ]
    }
   ],
   "source": [
    "# Then, test with REGCOIL, given winding surface.\n",
    "print('Testing REGCOIL, with known winding surface')\n",
    "regcoil2_out_dict, regcoil2_qp, regcoil2_phi_mn, _ = quadcoil(\n",
    "    nfp=plasma_surface.nfp,\n",
    "    stellsym=plasma_surface.stellsym,\n",
    "    mpol=mpol,\n",
    "    ntor=ntor,\n",
    "    plasma_dofs=plasma_surface.get_dofs(),\n",
    "    plasma_mpol=plasma_surface.mpol,\n",
    "    plasma_ntor=plasma_surface.ntor,\n",
    "    net_poloidal_current_amperes=net_poloidal_current_amperes,\n",
    "    net_toroidal_current_amperes=0.,\n",
    "    winding_dofs=winding_surface.get_dofs(),\n",
    "    winding_mpol=winding_surface.mpol,\n",
    "    winding_ntor=winding_surface.ntor,\n",
    "    winding_quadpoints_phi=winding_surface.quadpoints_phi,\n",
    "    winding_quadpoints_theta=winding_surface.quadpoints_theta,\n",
    "    objective_name=('f_B', 'f_K'),\n",
    "    objective_weight=np.array([1., 0.01]),\n",
    "    objective_unit=(1., 1.),\n",
    "    metric_name=('f_B', 'f_K')\n",
    ")"
   ]
  },
  {
   "cell_type": "code",
   "execution_count": null,
   "id": "d361470f-7a29-4d96-8d67-42a009d5465e",
   "metadata": {},
   "outputs": [],
   "source": [
    "# Comparing with REGCOIL\n",
    "cp = CurrentPotentialFourier(\n",
    "    winding_surface, mpol=4, ntor=4,\n",
    "    net_poloidal_current_amperes=11884578.094260072,\n",
    "    net_toroidal_current_amperes=0,\n",
    "    stellsym=True)\n",
    "cpst = CurrentPotentialSolve(cp, plasma_surface, jnp.zeros(1024))\n",
    "regcoil2_phi_mn_ans, regcoil2_f_B_ans, regcoil2_f_K_ans = cpst.solve_tikhonov(lam=0.01)\n",
    "plt.title('Fourier coefficients of the current potential')\n",
    "plt.plot(regcoil1_phi_mn, label='REGCOIL sln (from QUADCOIL)')\n",
    "plt.plot(regcoil1_phi_mn_ans, label='REGCOIL sln (from Simsopt) ')\n",
    "plt.legend()\n",
    "print('QUADCOIL f_B:', regcoil2_out_dict['f_B']['value'])\n",
    "print('REGCOIL f_B: ', regcoil2_f_B_ans)"
   ]
  },
  {
   "cell_type": "markdown",
   "id": "cd860ffc-7081-487e-bb47-a2a4edc5ec91",
   "metadata": {},
   "source": [
    "## Taylor test\n",
    "Test QUADCOIL derivatives against REGCOIL + finite difference"
   ]
  },
  {
   "cell_type": "code",
   "execution_count": null,
   "id": "ff4609a2-7413-4d07-a959-b8cf5699a3a9",
   "metadata": {},
   "outputs": [],
   "source": [
    "plasma_dof_orig = plasma_surface.get_dofs()\n",
    "plasma_dof_0_list = []\n",
    "phi_test_list = []\n",
    "f_B_test_list = []\n",
    "f_K_test_list = []\n",
    "phi_ans_list = []\n",
    "f_B_ans_list = []\n",
    "f_K_ans_list = []\n",
    "f_B_diff_test_list = []\n",
    "f_K_diff_test_list = []\n",
    "time_quadcoil_list = []\n",
    "time_regcoil_list = []\n",
    "for i in jnp.linspace(-0.1, 0.1, 200):\n",
    "    plasma_dof_i = plasma_dof_orig.copy()\n",
    "    plasma_dof_i[0] *= (1 + i)\n",
    "    # Run QUADCOIL first\n",
    "    time1 = time.time()\n",
    "    regcoili_out_dict, regcoili_qp, regcoili_phi_mn, status = quadcoil(\n",
    "        nfp=plasma_surface.nfp,\n",
    "        stellsym=plasma_surface.stellsym,\n",
    "        mpol=mpol,\n",
    "        ntor=ntor,\n",
    "        plasma_dofs=plasma_dof_i,\n",
    "        plasma_mpol=cpst.plasma_surface.mpol,\n",
    "        plasma_ntor=cpst.plasma_surface.ntor,\n",
    "        net_poloidal_current_amperes=net_poloidal_current_amperes,\n",
    "        net_toroidal_current_amperes=0.,\n",
    "        plasma_coil_distance=plasma_surface.minor_radius(),\n",
    "        objective_name=('f_B', 'f_K'),\n",
    "        objective_weight=np.array([1., 0.01]),\n",
    "        objective_unit=(1., 1.),\n",
    "        metric_name=('f_B', 'f_K'),\n",
    "    )\n",
    "    block_until_ready(regcoili_phi_mn)\n",
    "    block_until_ready(regcoili_out_dict)\n",
    "    block_until_ready(regcoili_qp)\n",
    "    time2 = time.time()\n",
    "    time_quadcoil_list.append(time2-time1)\n",
    "    # REGCOIL ---------------------------------------------------\n",
    "    time1 = time.time()\n",
    "    plasma_dof_0_list.append(plasma_dof_i[0])\n",
    "    phi_test_list.append(regcoili_phi_mn)\n",
    "    f_B_test_list.append(regcoili_out_dict['f_B']['value'])\n",
    "    f_K_test_list.append(regcoili_out_dict['f_K']['value'])\n",
    "    f_B_diff_test_list.append(regcoili_out_dict['f_B']['grad']['df_dplasma_dofs'][0])\n",
    "    f_K_diff_test_list.append(regcoili_out_dict['f_K']['grad']['df_dplasma_dofs'][0])\n",
    "    wsi = regcoili_qp.winding_surface.to_simsopt()\n",
    "    psi = regcoili_qp.plasma_surface.to_simsopt()\n",
    "    cpi = CurrentPotentialFourier(\n",
    "        wsi, mpol=mpol, ntor=ntor,\n",
    "        net_poloidal_current_amperes=net_poloidal_current_amperes,\n",
    "        net_toroidal_current_amperes=0.,\n",
    "        stellsym=True)\n",
    "    cpsti = CurrentPotentialSolve(cpi, psi, 0)\n",
    "    regcoili_phi_mn_ans, regcoili_f_B_ans, regcoili_f_K_ans = cpsti.solve_tikhonov(0.01)\n",
    "    time2 = time.time()\n",
    "    time_regcoil_list.append(time2-time1)\n",
    "    phi_ans_list.append(regcoili_phi_mn_ans)\n",
    "    f_B_ans_list.append(regcoili_f_B_ans)\n",
    "    f_K_ans_list.append(regcoili_f_K_ans)\n",
    "print('QUADCOIL avg time:', np.average(time_quadcoil_list), '(s)')\n",
    "print('QUADCOIL max time:', np.max(time_quadcoil_list), '(s)')\n",
    "print('REGCOIL  avg time:', np.average(time_regcoil_list), '(s)')\n",
    "print('REGCOIL  max time:', np.max(time_regcoil_list), '(s)')"
   ]
  },
  {
   "cell_type": "code",
   "execution_count": null,
   "id": "3ef64337-95ee-4443-a6f4-97c798713d74",
   "metadata": {},
   "outputs": [],
   "source": [
    "plasma_dof_0_list = jnp.array(plasma_dof_0_list)\n",
    "phi_test_list = jnp.array(phi_test_list)\n",
    "f_B_test_list = jnp.array(f_B_test_list)\n",
    "f_K_test_list = jnp.array(f_K_test_list)\n",
    "phi_ans_list = jnp.array(phi_ans_list)\n",
    "f_B_ans_list = jnp.array(f_B_ans_list)\n",
    "f_K_ans_list = jnp.array(f_K_ans_list)\n",
    "f_B_diff_test_list = jnp.array(f_B_diff_test_list)\n",
    "f_K_diff_test_list = jnp.array(f_K_diff_test_list)\n",
    "time_quadcoil_list = jnp.array(time_quadcoil_list)\n",
    "time_regcoil_list = jnp.array(time_regcoil_list)"
   ]
  },
  {
   "cell_type": "code",
   "execution_count": null,
   "id": "f0f9d6ff-501e-4543-bebb-38e89df0d5ba",
   "metadata": {},
   "outputs": [],
   "source": [
    "plt.plot(plasma_dof_0_list, f_K_test_list, label='QUADCOIL')\n",
    "plt.plot(plasma_dof_0_list, f_K_ans_list, label='REGCOIL', linestyle='dashed')\n",
    "plt.xlabel('$R_{00}$ of plasma surface')\n",
    "plt.ylabel('$f_K$ (K$^2$m$^2$)')\n",
    "plt.legend()\n",
    "print('Max error:', jnp.max(jnp.abs(f_K_test_list - f_K_ans_list)))\n",
    "print('Avg error:', jnp.average(jnp.abs(f_K_test_list - f_K_ans_list)))"
   ]
  },
  {
   "cell_type": "code",
   "execution_count": null,
   "id": "3875f25c-8616-4321-95ad-a6f9d3bf80a3",
   "metadata": {},
   "outputs": [],
   "source": [
    "plt.plot(plasma_dof_0_list, f_B_test_list, label='QUADCOIL')\n",
    "plt.plot(plasma_dof_0_list, f_B_ans_list, label='REGCOIL', linestyle='dashed')\n",
    "plt.xlabel('$R_{00}$ of plasma surface')\n",
    "plt.ylabel('$f_B$ (T$^2$m$^2$)')\n",
    "plt.legend()\n",
    "print('Max error:', jnp.max(jnp.abs(f_B_test_list - f_B_ans_list)))\n",
    "print('Avg error:', jnp.average(jnp.abs(f_B_test_list - f_B_ans_list)))"
   ]
  },
  {
   "cell_type": "code",
   "execution_count": null,
   "id": "d65c0cdd-3c2e-40bf-9e8b-8757639a990d",
   "metadata": {},
   "outputs": [],
   "source": [
    "grad_f_K = jnp.gradient(f_K_test_list.flatten(), plasma_dof_0_list[1]-plasma_dof_0_list[0])\n",
    "plt.plot(plasma_dof_0_list, grad_f_K, label='REGCOIL & numpy.gradient')\n",
    "plt.plot(plasma_dof_0_list, f_K_diff_test_list, label='QUADCOIL', linestyle='dashed')\n",
    "plt.xlabel('$R_{00}$ of plasma surface')\n",
    "plt.ylabel(r'$\\partial f_K/\\partial R_{00}$ (K$^2$m$^2$)')\n",
    "plt.legend()\n",
    "print('Max error:', jnp.max(jnp.abs(grad_f_K - f_K_diff_test_list)))\n",
    "print('Avg error:', jnp.average(jnp.abs(grad_f_K - f_K_diff_test_list)))"
   ]
  },
  {
   "cell_type": "code",
   "execution_count": null,
   "id": "5b4bb89a-62cf-45dd-a90c-13df0e76c94e",
   "metadata": {},
   "outputs": [],
   "source": [
    "grad_f_B = jnp.gradient(f_B_test_list.flatten(), plasma_dof_0_list[1]-plasma_dof_0_list[0])\n",
    "plt.plot(plasma_dof_0_list, grad_f_B, label='REGCOIL & numpy.gradient')\n",
    "plt.plot(plasma_dof_0_list, f_B_diff_test_list, label='QUADCOIL', linestyle='dashed')\n",
    "plt.xlabel('$R_{00}$ of plasma surface')\n",
    "plt.ylabel(r'$\\partial f_B/\\partial R_{00}$ (K$^2$m$^2$)')\n",
    "plt.legend()\n",
    "print('Max error:', jnp.max(jnp.abs(grad_f_B - f_B_diff_test_list)))\n",
    "print('Avg error:', jnp.average(jnp.abs(grad_f_B - f_B_diff_test_list)))"
   ]
  },
  {
   "cell_type": "code",
   "execution_count": null,
   "id": "2b03195e-2a4e-42b9-bde1-a5f7a2a56f3d",
   "metadata": {},
   "outputs": [],
   "source": []
  }
 ],
 "metadata": {
  "kernelspec": {
   "display_name": "Stellarator",
   "language": "python",
   "name": "stellarator"
  },
  "language_info": {
   "codemirror_mode": {
    "name": "ipython",
    "version": 3
   },
   "file_extension": ".py",
   "mimetype": "text/x-python",
   "name": "python",
   "nbconvert_exporter": "python",
   "pygments_lexer": "ipython3",
   "version": "3.12.9"
  }
 },
 "nbformat": 4,
 "nbformat_minor": 5
}
