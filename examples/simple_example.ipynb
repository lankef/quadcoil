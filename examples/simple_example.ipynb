{
 "cells": [
  {
   "cell_type": "markdown",
   "id": "f11872cd-1402-488e-8c50-18155b53cdcc",
   "metadata": {},
   "source": [
    "# The simplest quadcoil example\n",
    "This is the simplest quadcoil example solving the NESCOIL problem\n",
    "1 minor radius away from the plasma surface. Requires simsopt to load\n",
    "the surfaces."
   ]
  },
  {
   "cell_type": "code",
   "execution_count": 1,
   "id": "39f27819-b801-406b-b129-a108f0564df6",
   "metadata": {},
   "outputs": [],
   "source": [
    "from quadcoil import quadcoil\n",
    "from simsopt.mhd import Vmec"
   ]
  },
  {
   "cell_type": "code",
   "execution_count": 3,
   "id": "41dd689a-041f-4a67-96b3-473cd77457fc",
   "metadata": {},
   "outputs": [],
   "source": [
    "equil_qs = Vmec('wout_LandremanPaul2021_QA_lowres.nc', keep_all_files=True)\n",
    "plasma_surface = equil_qs.boundary\n",
    "net_poloidal_current_amperes = equil_qs.external_current()"
   ]
  },
  {
   "cell_type": "code",
   "execution_count": null,
   "id": "6b2a87b1-8149-4a4a-bd8b-5542516339c8",
   "metadata": {},
   "outputs": [],
   "source": [
    "nescoil_out_dict, nescoil_qp, nescoil_phi_mn, _ = quadcoil(\n",
    "    nfp=plasma_surface.nfp,\n",
    "    stellsym=plasma_surface.stellsym,\n",
    "    mpol=4, # 4 poloidal harmonics for the current potential\n",
    "    ntor=4, # 4 toroidal harmonics for the current potential\n",
    "    plasma_dofs=plasma_surface.get_dofs(),\n",
    "    plasma_mpol=plasma_surface.mpol,\n",
    "    plasma_ntor=plasma_surface.ntor,\n",
    "    net_poloidal_current_amperes=net_poloidal_current_amperes,\n",
    "    net_toroidal_current_amperes=0.,\n",
    "    plasma_coil_distance=plasma_surface.minor_radius(),\n",
    "    # Set the objective to \n",
    "    # f_B\n",
    "    objective_name='f_B',\n",
    "    objective_weight=None,\n",
    "    objective_unit=None,\n",
    "    # Set the output metrics to f_B and f_K\n",
    "    metric_name=('f_B', 'f_K')\n",
    ")"
   ]
  },
  {
   "cell_type": "code",
   "execution_count": null,
   "id": "733dc8e8-966c-4f0b-a7e5-8f2a239180ca",
   "metadata": {},
   "outputs": [],
   "source": [
    "# Plotting the solution\n",
    "from quadcoil.objective import Phi_with_net_current\n",
    "import matplotlib.pyplot as plt\n",
    "\n",
    "plt.contour(\n",
    "    nescoil_qp.quadpoints_phi, \n",
    "    nescoil_qp.quadpoints_theta,\n",
    "    Phi_with_net_current(nescoil_qp, nescoil_phi_mn), \n",
    "    levels=40\n",
    ")"
   ]
  },
  {
   "cell_type": "code",
   "execution_count": null,
   "id": "a865e150-b77c-46f8-a916-ff4d4285c537",
   "metadata": {},
   "outputs": [],
   "source": []
  }
 ],
 "metadata": {
  "kernelspec": {
   "display_name": "Stellarator",
   "language": "python",
   "name": "stellarator"
  },
  "language_info": {
   "codemirror_mode": {
    "name": "ipython",
    "version": 3
   },
   "file_extension": ".py",
   "mimetype": "text/x-python",
   "name": "python",
   "nbconvert_exporter": "python",
   "pygments_lexer": "ipython3",
   "version": "3.12.9"
  }
 },
 "nbformat": 4,
 "nbformat_minor": 5
}
