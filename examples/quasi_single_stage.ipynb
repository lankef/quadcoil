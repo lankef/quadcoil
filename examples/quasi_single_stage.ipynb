{
 "cells": [
  {
   "cell_type": "markdown",
   "id": "eef42ade-e95c-4c88-926a-6a79843d9c4c",
   "metadata": {},
   "source": [
    "# Dipole\n",
    "This example reproduces the topology constraint."
   ]
  },
  {
   "cell_type": "code",
   "execution_count": 1,
   "id": "e8fffb01-6e29-4178-a7ce-d5d5e66e798f",
   "metadata": {},
   "outputs": [],
   "source": [
    "\n",
    "import os\n"
   ]
  },
  {
   "cell_type": "code",
   "execution_count": 2,
   "id": "a5dd9517-fd3c-40fb-831a-5b0a4af94d1c",
   "metadata": {},
   "outputs": [
    {
     "data": {
      "text/plain": [
       "[CudaDevice(id=0)]"
      ]
     },
     "execution_count": 2,
     "metadata": {},
     "output_type": "execute_result"
    }
   ],
   "source": [
    "from quadcoil import quadcoil\n",
    "\n",
    "import desc\n",
    "from desc.objectives import QuadcoilProxy,  ObjectiveFunction\n",
    "\n",
    "from simsopt.util import MpiPartition, log\n",
    "from simsopt.mhd import Vmec, Boozer, Quasisymmetry\n",
    "from simsopt.objectives import LeastSquaresProblem\n",
    "from simsopt.solve import least_squares_mpi_solve\n",
    "from simsopt.field import CurrentPotentialFourier, CurrentPotentialSolve\n",
    "\n",
    "import vmecpp\n",
    "import matplotlib.pyplot as plt\n",
    "import numpy as np\n",
    "import jax.numpy as jnp\n",
    "from jax import block_until_ready, devices, config\n",
    "import time\n",
    "devices()"
   ]
  },
  {
   "cell_type": "markdown",
   "id": "474efd63-0bdf-43cf-a1a5-641259604e61",
   "metadata": {},
   "source": [
    "## Loading files"
   ]
  },
  {
   "cell_type": "code",
   "execution_count": 28,
   "id": "8509a9bd-9dec-4faf-a29f-478387328de6",
   "metadata": {},
   "outputs": [
    {
     "name": "stderr",
     "output_type": "stream",
     "text": [
      "/mnt/c/Work/codes/DESC/desc/vmec.py:93: UserWarning: VMEC output appears to be from version 8.52 while DESC is only designed for compatibility with VMEC version 9. Some data may not be loaded correctly.\n",
      "  warnings.warn(\n",
      "/mnt/c/Work/codes/DESC/desc/utils.py:563: UserWarning: \n",
      "Not equal to tolerance rtol=3e-14, atol=3e-14\n",
      "Incompatible constraints detected, cannot satisfy constraint <desc.objectives.linear_objectives.FixAxisR object at 0x7fe84cf49ba0>.\n",
      "Mismatched elements: 1 / 7 (14.3%)\n",
      "Max absolute difference: 9.094947e-13\n",
      "Max relative difference: 6.418019e-08\n",
      " x: array([3.023549e-01, 3.263808e-02, 2.174698e-03, 1.476565e-04,\n",
      "       1.417096e-05, 9.997507e-07, 5.438042e-08], dtype=float32)\n",
      " y: array([3.023549e-01, 3.263808e-02, 2.174698e-03, 1.476565e-04,\n",
      "       1.417096e-05, 9.997507e-07, 5.438042e-08], dtype=float32)\n",
      " This may indicate incompatible constraints, or be due to floating point error.\n",
      "  warnings.warn(colored(msg, \"yellow\"), err)\n",
      "/mnt/c/Work/codes/DESC/desc/utils.py:563: UserWarning: \n",
      "Not equal to tolerance rtol=3e-14, atol=3e-14\n",
      "Incompatible constraints detected, cannot satisfy constraint <desc.objectives.linear_objectives.FixAxisZ object at 0x7fe84caed2d0>.\n",
      "Mismatched elements: 1 / 6 (16.7%)\n",
      "Max absolute difference: 1.8626451e-09\n",
      "Max relative difference: 5.9726055e-08\n",
      " x: array([-1.241759e-07,  2.083381e-06,  1.095588e-05,  1.527391e-04,\n",
      "        2.170918e-03,  3.118647e-02], dtype=float32)\n",
      " y: array([-1.241759e-07,  2.083381e-06,  1.095588e-05,  1.527391e-04,\n",
      "        2.170918e-03,  3.118648e-02], dtype=float32)\n",
      " This may indicate incompatible constraints, or be due to floating point error.\n",
      "  warnings.warn(colored(msg, \"yellow\"), err)\n",
      "/mnt/c/Work/codes/DESC/desc/utils.py:563: UserWarning: \n",
      "Not equal to tolerance rtol=3e-14, atol=3e-14\n",
      "Incompatible constraints detected, cannot satisfy constraint <desc.objectives.linear_objectives.FixBoundaryR object at 0x7fe84c170220>.\n",
      "Mismatched elements: 7 / 98 (7.14%)\n",
      "Max absolute difference: 1.8626451e-09\n",
      "Max relative difference: 7.886116e-08\n",
      " x: array([-0.000000e+00, -0.000000e+00, -0.000000e+00, -0.000000e+00,\n",
      "       -0.000000e+00, -0.000000e+00, -0.000000e+00, -0.000000e+00,\n",
      "       -0.000000e+00, -0.000000e+00, -0.000000e+00,  2.427069e-05,...\n",
      " y: array([-0.000000e+00, -0.000000e+00, -0.000000e+00, -0.000000e+00,\n",
      "       -0.000000e+00, -0.000000e+00, -0.000000e+00, -0.000000e+00,\n",
      "       -0.000000e+00, -0.000000e+00, -0.000000e+00,  2.427069e-05,...\n",
      " This may indicate incompatible constraints, or be due to floating point error.\n",
      "  warnings.warn(colored(msg, \"yellow\"), err)\n",
      "/mnt/c/Work/codes/DESC/desc/utils.py:563: UserWarning: \n",
      "Not equal to tolerance rtol=3e-14, atol=3e-14\n",
      "Incompatible constraints detected, cannot satisfy constraint <desc.objectives.linear_objectives.FixBoundaryZ object at 0x7fe84c170250>.\n",
      "Mismatched elements: 7 / 97 (7.22%)\n",
      "Max absolute difference: 1.1641532e-10\n",
      "Max relative difference: 7.8771414e-08\n",
      " x: array([-0.000000e+00, -0.000000e+00, -0.000000e+00, -0.000000e+00,\n",
      "       -0.000000e+00, -0.000000e+00, -0.000000e+00, -0.000000e+00,\n",
      "        2.879883e-05,  6.813048e-06,  2.829809e-05,  2.916251e-05,...\n",
      " y: array([-0.000000e+00,  0.000000e+00,  0.000000e+00,  0.000000e+00,\n",
      "        0.000000e+00,  0.000000e+00,  0.000000e+00,  0.000000e+00,\n",
      "        2.879883e-05,  6.813048e-06,  2.829810e-05,  2.916251e-05,...\n",
      " This may indicate incompatible constraints, or be due to floating point error.\n",
      "  warnings.warn(colored(msg, \"yellow\"), err)\n"
     ]
    },
    {
     "ename": "AssertionError",
     "evalue": "\nNot equal to tolerance rtol=0.1, atol=1e-06\nIncompatible constraints detected, cannot satisfy constraint <desc.objectives.linear_objectives.BoundaryRSelfConsistency object at 0x7fe84c1704c0>.\nMismatched elements: 5 / 98 (5.1%)\nMax absolute difference: 7.74674118e-06\nMax relative difference: inf\n x: array([ 0.000000e+00,  0.000000e+00, -4.855686e-13,  1.434455e-12,\n        0.000000e+00, -7.100577e-13, -1.338033e-12,  0.000000e+00,\n        0.000000e+00,  0.000000e+00,  0.000000e+00, -2.370325e-08,...\n y: array([0, 0, 0, 0, 0, 0, 0, 0, 0, 0, 0, 0, 0, 0, 0, 0, 0, 0, 0, 0, 0, 0,\n       0, 0, 0, 0, 0, 0, 0, 0, 0, 0, 0, 0, 0, 0, 0, 0, 0, 0, 0, 0, 0, 0,\n       0, 0, 0, 0, 0, 0, 0, 0, 0, 0, 0, 0, 0, 0, 0, 0, 0, 0, 0, 0, 0, 0,...",
     "output_type": "error",
     "traceback": [
      "\u001b[0;31m---------------------------------------------------------------------------\u001b[0m",
      "\u001b[0;31mAssertionError\u001b[0m                            Traceback (most recent call last)",
      "Cell \u001b[0;32mIn[28], line 9\u001b[0m\n\u001b[1;32m      7\u001b[0m \u001b[38;5;66;03m# Loading equilibrium into DESC\u001b[39;00m\n\u001b[1;32m      8\u001b[0m wout_file \u001b[38;5;241m=\u001b[39m \u001b[38;5;124m\"\u001b[39m\u001b[38;5;124mwout_muse++.nc\u001b[39m\u001b[38;5;124m\"\u001b[39m\n\u001b[0;32m----> 9\u001b[0m desc_eq \u001b[38;5;241m=\u001b[39m \u001b[43mdesc\u001b[49m\u001b[38;5;241;43m.\u001b[39;49m\u001b[43mvmec\u001b[49m\u001b[38;5;241;43m.\u001b[39;49m\u001b[43mVMECIO\u001b[49m\u001b[38;5;241;43m.\u001b[39;49m\u001b[43mload\u001b[49m\u001b[43m(\u001b[49m\u001b[43mwout_file\u001b[49m\u001b[43m)\u001b[49m\n\u001b[1;32m     10\u001b[0m config\u001b[38;5;241m.\u001b[39mupdate(\u001b[38;5;124m'\u001b[39m\u001b[38;5;124mjax_enable_x64\u001b[39m\u001b[38;5;124m'\u001b[39m, \u001b[38;5;28;01mFalse\u001b[39;00m)\n",
      "File \u001b[0;32m/mnt/c/Work/codes/DESC/desc/vmec.py:197\u001b[0m, in \u001b[0;36mVMECIO.load\u001b[0;34m(cls, path, L, M, N, spectral_indexing, profile)\u001b[0m\n\u001b[1;32m    195\u001b[0m objective \u001b[38;5;241m=\u001b[39m ObjectiveFunction(constraints)\n\u001b[1;32m    196\u001b[0m objective\u001b[38;5;241m.\u001b[39mbuild(verbose\u001b[38;5;241m=\u001b[39m\u001b[38;5;241m0\u001b[39m)\n\u001b[0;32m--> 197\u001b[0m _, _, _, _, _, _, project, recover, \u001b[38;5;241m*\u001b[39m_ \u001b[38;5;241m=\u001b[39m \u001b[43mfactorize_linear_constraints\u001b[49m\u001b[43m(\u001b[49m\n\u001b[1;32m    198\u001b[0m \u001b[43m    \u001b[49m\u001b[43mobjective\u001b[49m\u001b[43m,\u001b[49m\u001b[43m \u001b[49m\u001b[43mobjective\u001b[49m\n\u001b[1;32m    199\u001b[0m \u001b[43m\u001b[49m\u001b[43m)\u001b[49m\n\u001b[1;32m    200\u001b[0m args \u001b[38;5;241m=\u001b[39m objective\u001b[38;5;241m.\u001b[39munpack_state(recover(project(objective\u001b[38;5;241m.\u001b[39mx(eq))), \u001b[38;5;28;01mFalse\u001b[39;00m)[\u001b[38;5;241m0\u001b[39m]\n\u001b[1;32m    201\u001b[0m eq\u001b[38;5;241m.\u001b[39mparams_dict \u001b[38;5;241m=\u001b[39m args\n",
      "File \u001b[0;32m/mnt/c/Work/codes/DESC/desc/objectives/utils.py:162\u001b[0m, in \u001b[0;36mfactorize_linear_constraints\u001b[0;34m(objective, constraint, x_scale)\u001b[0m\n\u001b[1;32m    157\u001b[0m y1, y2 \u001b[38;5;241m=\u001b[39m np\u001b[38;5;241m.\u001b[39mbroadcast_arrays(y1, y2)\n\u001b[1;32m    159\u001b[0m \u001b[38;5;66;03m# If the error is very large, likely want to error out as\u001b[39;00m\n\u001b[1;32m    160\u001b[0m \u001b[38;5;66;03m# it probably is due to a real mistake instead of just numerical\u001b[39;00m\n\u001b[1;32m    161\u001b[0m \u001b[38;5;66;03m# round-off errors.\u001b[39;00m\n\u001b[0;32m--> 162\u001b[0m \u001b[43mnp\u001b[49m\u001b[38;5;241;43m.\u001b[39;49m\u001b[43mtesting\u001b[49m\u001b[38;5;241;43m.\u001b[39;49m\u001b[43massert_allclose\u001b[49m\u001b[43m(\u001b[49m\n\u001b[1;32m    163\u001b[0m \u001b[43m    \u001b[49m\u001b[43my1\u001b[49m\u001b[43m,\u001b[49m\n\u001b[1;32m    164\u001b[0m \u001b[43m    \u001b[49m\u001b[43my2\u001b[49m\u001b[43m,\u001b[49m\n\u001b[1;32m    165\u001b[0m \u001b[43m    \u001b[49m\u001b[43matol\u001b[49m\u001b[38;5;241;43m=\u001b[39;49m\u001b[38;5;241;43m1e-6\u001b[39;49m\u001b[43m,\u001b[49m\n\u001b[1;32m    166\u001b[0m \u001b[43m    \u001b[49m\u001b[43mrtol\u001b[49m\u001b[38;5;241;43m=\u001b[39;49m\u001b[38;5;241;43m1e-1\u001b[39;49m\u001b[43m,\u001b[49m\n\u001b[1;32m    167\u001b[0m \u001b[43m    \u001b[49m\u001b[43merr_msg\u001b[49m\u001b[38;5;241;43m=\u001b[39;49m\u001b[38;5;124;43m\"\u001b[39;49m\u001b[38;5;124;43mIncompatible constraints detected, cannot satisfy constraint \u001b[39;49m\u001b[38;5;124;43m\"\u001b[39;49m\n\u001b[1;32m    168\u001b[0m \u001b[43m    \u001b[49m\u001b[38;5;241;43m+\u001b[39;49m\u001b[43m \u001b[49m\u001b[38;5;124;43mf\u001b[39;49m\u001b[38;5;124;43m\"\u001b[39;49m\u001b[38;5;132;43;01m{\u001b[39;49;00m\u001b[43mcon\u001b[49m\u001b[38;5;132;43;01m}\u001b[39;49;00m\u001b[38;5;124;43m.\u001b[39;49m\u001b[38;5;124;43m\"\u001b[39;49m\u001b[43m,\u001b[49m\n\u001b[1;32m    169\u001b[0m \u001b[43m\u001b[49m\u001b[43m)\u001b[49m\n\u001b[1;32m    171\u001b[0m \u001b[38;5;66;03m# else check with tighter tols and throw an error, these tolerances\u001b[39;00m\n\u001b[1;32m    172\u001b[0m \u001b[38;5;66;03m# could be tripped due to just numerical round-off or poor scaling between\u001b[39;00m\n\u001b[1;32m    173\u001b[0m \u001b[38;5;66;03m# constraints, so don't want to error out but we do want to warn the user.\u001b[39;00m\n\u001b[1;32m    174\u001b[0m atol \u001b[38;5;241m=\u001b[39m \u001b[38;5;241m3e-14\u001b[39m\n",
      "    \u001b[0;31m[... skipping hidden 1 frame]\u001b[0m\n",
      "File \u001b[0;32m~/miniconda3/envs/stellarator/lib/python3.10/contextlib.py:79\u001b[0m, in \u001b[0;36mContextDecorator.__call__.<locals>.inner\u001b[0;34m(*args, **kwds)\u001b[0m\n\u001b[1;32m     76\u001b[0m \u001b[38;5;129m@wraps\u001b[39m(func)\n\u001b[1;32m     77\u001b[0m \u001b[38;5;28;01mdef\u001b[39;00m\u001b[38;5;250m \u001b[39m\u001b[38;5;21minner\u001b[39m(\u001b[38;5;241m*\u001b[39margs, \u001b[38;5;241m*\u001b[39m\u001b[38;5;241m*\u001b[39mkwds):\n\u001b[1;32m     78\u001b[0m     \u001b[38;5;28;01mwith\u001b[39;00m \u001b[38;5;28mself\u001b[39m\u001b[38;5;241m.\u001b[39m_recreate_cm():\n\u001b[0;32m---> 79\u001b[0m         \u001b[38;5;28;01mreturn\u001b[39;00m \u001b[43mfunc\u001b[49m\u001b[43m(\u001b[49m\u001b[38;5;241;43m*\u001b[39;49m\u001b[43margs\u001b[49m\u001b[43m,\u001b[49m\u001b[43m \u001b[49m\u001b[38;5;241;43m*\u001b[39;49m\u001b[38;5;241;43m*\u001b[39;49m\u001b[43mkwds\u001b[49m\u001b[43m)\u001b[49m\n",
      "File \u001b[0;32m~/miniconda3/envs/stellarator/lib/python3.10/site-packages/numpy/testing/_private/utils.py:797\u001b[0m, in \u001b[0;36massert_array_compare\u001b[0;34m(comparison, x, y, err_msg, verbose, header, precision, equal_nan, equal_inf, strict)\u001b[0m\n\u001b[1;32m    793\u001b[0m         err_msg \u001b[38;5;241m+\u001b[39m\u001b[38;5;241m=\u001b[39m \u001b[38;5;124m'\u001b[39m\u001b[38;5;130;01m\\n\u001b[39;00m\u001b[38;5;124m'\u001b[39m \u001b[38;5;241m+\u001b[39m \u001b[38;5;124m'\u001b[39m\u001b[38;5;130;01m\\n\u001b[39;00m\u001b[38;5;124m'\u001b[39m\u001b[38;5;241m.\u001b[39mjoin(remarks)\n\u001b[1;32m    794\u001b[0m         msg \u001b[38;5;241m=\u001b[39m build_err_msg([ox, oy], err_msg,\n\u001b[1;32m    795\u001b[0m                             verbose\u001b[38;5;241m=\u001b[39mverbose, header\u001b[38;5;241m=\u001b[39mheader,\n\u001b[1;32m    796\u001b[0m                             names\u001b[38;5;241m=\u001b[39m(\u001b[38;5;124m'\u001b[39m\u001b[38;5;124mx\u001b[39m\u001b[38;5;124m'\u001b[39m, \u001b[38;5;124m'\u001b[39m\u001b[38;5;124my\u001b[39m\u001b[38;5;124m'\u001b[39m), precision\u001b[38;5;241m=\u001b[39mprecision)\n\u001b[0;32m--> 797\u001b[0m         \u001b[38;5;28;01mraise\u001b[39;00m \u001b[38;5;167;01mAssertionError\u001b[39;00m(msg)\n\u001b[1;32m    798\u001b[0m \u001b[38;5;28;01mexcept\u001b[39;00m \u001b[38;5;167;01mValueError\u001b[39;00m:\n\u001b[1;32m    799\u001b[0m     \u001b[38;5;28;01mimport\u001b[39;00m\u001b[38;5;250m \u001b[39m\u001b[38;5;21;01mtraceback\u001b[39;00m\n",
      "\u001b[0;31mAssertionError\u001b[0m: \nNot equal to tolerance rtol=0.1, atol=1e-06\nIncompatible constraints detected, cannot satisfy constraint <desc.objectives.linear_objectives.BoundaryRSelfConsistency object at 0x7fe84c1704c0>.\nMismatched elements: 5 / 98 (5.1%)\nMax absolute difference: 7.74674118e-06\nMax relative difference: inf\n x: array([ 0.000000e+00,  0.000000e+00, -4.855686e-13,  1.434455e-12,\n        0.000000e+00, -7.100577e-13, -1.338033e-12,  0.000000e+00,\n        0.000000e+00,  0.000000e+00,  0.000000e+00, -2.370325e-08,...\n y: array([0, 0, 0, 0, 0, 0, 0, 0, 0, 0, 0, 0, 0, 0, 0, 0, 0, 0, 0, 0, 0, 0,\n       0, 0, 0, 0, 0, 0, 0, 0, 0, 0, 0, 0, 0, 0, 0, 0, 0, 0, 0, 0, 0, 0,\n       0, 0, 0, 0, 0, 0, 0, 0, 0, 0, 0, 0, 0, 0, 0, 0, 0, 0, 0, 0, 0, 0,..."
     ]
    }
   ],
   "source": [
    "# Loading equilibrium into VMEC\n",
    "filename_pp = \"wout_muse++.nc\"\n",
    "equil_pp = vmecpp.simsopt_compat.Vmec(filename_pp, keep_all_files=True)\n",
    "surf_pp = equil_pp.boundary\n",
    "net_poloidal_current_pp = equil_pp.external_current()\n",
    "\n",
    "# Loading equilibrium into DESC\n",
    "wout_file = \"wout_muse++.nc\"\n",
    "desc_eq = desc.vmec.VMECIO.load(wout_file)\n",
    "config.update('jax_enable_x64', False)"
   ]
  },
  {
   "cell_type": "code",
   "execution_count": 4,
   "id": "5337aa08-62e6-4e76-b14c-aea09b54a0c7",
   "metadata": {},
   "outputs": [],
   "source": [
    "\n",
    "dict = jnp.load('regcoil_muse++.npy', allow_pickle=True).item()\n",
    "regcoili_qp = dict['regcoili_qp']\n",
    "time_regcoil_list = dict['time_regcoil_list']\n",
    "phi_ans_list = dict['phi_ans_list']\n",
    "f_B_ans_list = dict['f_B_ans_list']\n",
    "f_K_ans_list = dict['f_K_ans_list']\n",
    "time_quadcoil_list = dict['time_quadcoil_list']\n",
    "phi_test_list = dict['phi_test_list']\n",
    "f_B_test_list = dict['f_B_test_list']\n",
    "f_K_test_list = dict['f_K_test_list']"
   ]
  },
  {
   "cell_type": "code",
   "execution_count": 5,
   "id": "9c02ddf2-7f53-42f0-b63d-85e03b5c79a0",
   "metadata": {},
   "outputs": [
    {
     "name": "stdout",
     "output_type": "stream",
     "text": [
      "f_K at the inflection point: 21188205000.0\n",
      "f_B at the inflection point: 7.074614e-09"
     ]
    },
    {
     "name": "stdout",
     "output_type": "stream",
     "text": [
      "\n"
     ]
    },
    {
     "data": {
      "image/png": "[encoded data removed]",
      "text/plain": [
       "<Figure size 640x480 with 1 Axes>"
      ]
     },
     "metadata": {},
     "output_type": "display_data"
    }
   ],
   "source": [
    "# inflection point\n",
    "i_infl = np.argmin(f_K_test_list * f_B_test_list)\n",
    "plt.plot(f_K_test_list, f_B_test_list, label='QUADCOIL')\n",
    "plt.plot(f_K_ans_list, f_B_ans_list, label='REGCOIL')\n",
    "plt.ylabel('f_B')\n",
    "plt.xlabel('f_K')\n",
    "plt.xscale('log')\n",
    "plt.yscale('log')\n",
    "plt.legend()\n",
    "plt.scatter(f_K_test_list[i_infl], f_B_test_list[i_infl])\n",
    "print('f_K at the inflection point:', f_K_test_list[i_infl])\n",
    "print('f_B at the inflection point:', f_B_test_list[i_infl])\n",
    "f_B_target = f_B_test_list[i_infl]\n",
    "phi_regcoil = phi_test_list[i_infl]"
   ]
  },
  {
   "cell_type": "markdown",
   "id": "9667aa77-8869-488f-8ffc-03baac6352f8",
   "metadata": {},
   "source": [
    "# Problem settings"
   ]
  },
  {
   "cell_type": "code",
   "execution_count": 6,
   "id": "61ecdaf5-8d34-44c9-aee2-893d907e6a91",
   "metadata": {},
   "outputs": [],
   "source": [
    "# Settings \n",
    "separation = 0.1\n",
    "mpol = 12\n",
    "ntor = 12\n",
    "nfp = desc_eq.NFP\n",
    "plasma_M_theta = 16\n",
    "plasma_N_phi = 32"
   ]
  },
  {
   "cell_type": "code",
   "execution_count": 7,
   "id": "31b0a5d7-6eef-40a4-87fe-6aafb925098c",
   "metadata": {},
   "outputs": [
    {
     "name": "stdout",
     "output_type": "stream",
     "text": [
      "Precomputing transforms\n"
     ]
    }
   ],
   "source": [
    "# We first create a dummy objective to extract its quadrature\n",
    "# points. This will allow us to sanity check the objectie's value\n",
    "# against baseline QUADCOIL.# Solving with the DESC interface\n",
    "objective_dummy = QuadcoilProxy(\n",
    "    eq=desc_eq,\n",
    "    quadcoil_args={\n",
    "        'plasma_coil_distance':0.1,\n",
    "    },\n",
    "    metric_name='f_max_Phi2',\n",
    "    metric_target=0.,\n",
    "    metric_weight=1.,\n",
    "    plasma_M_theta=plasma_M_theta,\n",
    "    plasma_N_phi=plasma_N_phi,\n",
    "    # target=None,\n",
    "    # bounds=None,\n",
    "    # weight=1,\n",
    "    normalize=False,\n",
    "    normalize_target=False,\n",
    "    name=\"QUADCOIL Proxy\",\n",
    "    verbose=True,\n",
    "    # Bnormal_plasma_chunk_size=None,\n",
    "    # source_grid=None,\n",
    "    # jac_chunk_size=None,\n",
    ")\n",
    "objective_dummy.build()\n",
    "plasma_quadpoints_phi = np.array(objective_dummy.plasma_quadpoints_phi)\n",
    "plasma_quadpoints_theta = np.array(objective_dummy.plasma_quadpoints_theta)\n",
    "winding_quadpoints_phi = np.linspace(0, 1, len(plasma_quadpoints_phi) * nfp)\n",
    "winding_quadpoints_theta = np.linspace(0, 1, len(plasma_quadpoints_theta))\n"
   ]
  },
  {
   "cell_type": "code",
   "execution_count": 8,
   "id": "242bc500",
   "metadata": {},
   "outputs": [
    {
     "data": {
      "text/plain": [
       "209571.8859789997"
      ]
     },
     "execution_count": 8,
     "metadata": {},
     "output_type": "execute_result"
    }
   ],
   "source": [
    "net_poloidal_current_pp"
   ]
  },
  {
   "cell_type": "code",
   "execution_count": 9,
   "id": "4cf152dd",
   "metadata": {},
   "outputs": [
    {
     "name": "stdout",
     "output_type": "stream",
     "text": [
      "max phi 4502.255\n",
      "mean abs phi 139.15399\n"
     ]
    }
   ],
   "source": [
    "print('max phi', jnp.max(phi_ans_list[i_infl]))\n",
    "print('mean abs phi', jnp.average(jnp.abs(phi_ans_list[i_infl])))"
   ]
  },
  {
   "cell_type": "code",
   "execution_count": 14,
   "id": "b466b1f9-01de-40fc-ba9f-ed72a01ffdb6",
   "metadata": {},
   "outputs": [
    {
     "name": "stdout",
     "output_type": "stream",
     "text": [
      "Max(Phi^2) = 386066300.0 At the inflection point.\n",
      "Max(Phi) = 19648.57 At the inflection point.\n"
     ]
    }
   ],
   "source": [
    "# Calculating normalization factors\n",
    "from quadcoil.objective import f_max_Phi2, f_B, f_max_Phi, Phi\n",
    "# Auto-normalization will not work for dipole objectives,\n",
    "# because they are zero when Phi is 0.\n",
    "# Therefore, we choose instead to normalize\n",
    "# using the Phi measured from the inflection point.\n",
    "unit_Phi2 = f_max_Phi2(regcoili_qp, phi_test_list[i_infl])\n",
    "print('Max(Phi^2) =', unit_Phi2, 'At the inflection point.')\n",
    "unit_Phi = f_max_Phi(regcoili_qp, phi_test_list[i_infl])\n",
    "print('Max(Phi) =', unit_Phi, 'At the inflection point.')\n",
    "\n",
    "quadcoil_kwargs = {\n",
    "    'plasma_coil_distance':separation,\n",
    "    'mpol':mpol,\n",
    "    'ntor':ntor,\n",
    "    'winding_quadpoints_phi': winding_quadpoints_phi,\n",
    "    'winding_quadpoints_theta': winding_quadpoints_theta,\n",
    "    'plasma_quadpoints_phi': plasma_quadpoints_phi,\n",
    "    'plasma_quadpoints_theta': plasma_quadpoints_theta,\n",
    "    'objective_name': 'f_max_Phi', # Minimizing peak dipole density\n",
    "    'objective_unit': unit_Phi, # under an f_B constraint\n",
    "    'constraint_name': ('f_B',),\n",
    "    'constraint_type': ('<=',),\n",
    "    'constraint_unit': (f_B_target,),\n",
    "    'constraint_value': np.array([f_B_target,]),\n",
    "    'fstop_outer': 1e-8, # convergence rate tolerance\n",
    "    'xstop_outer': 0., # convergence rate tolerance\n",
    "    'gtol_outer': 1e-8, # gradient tolerance\n",
    "    'ctol_outer': 1e-8, # constraint tolerance\n",
    "    'fstop_inner': 0.,\n",
    "    'xstop_inner': 0.,\n",
    "    'gtol_inner': 1e-8,\n",
    "    'maxiter_tot': 10000,\n",
    "    'maxiter_inner': 2000,\n",
    "    'c_init': 1.,\n",
    "}"
   ]
  },
  {
   "cell_type": "code",
   "execution_count": 15,
   "id": "a7872b52-f07e-4a68-b6cf-bad835cb9314",
   "metadata": {},
   "outputs": [],
   "source": [
    "# Solving with the quadcoil default function\n",
    "out_dict, qp, phi_mn, status = quadcoil(\n",
    "    nfp=surf_pp.nfp,\n",
    "    stellsym=surf_pp.stellsym,\n",
    "    plasma_dofs=surf_pp.get_dofs(),\n",
    "    plasma_mpol=surf_pp.mpol,\n",
    "    plasma_ntor=surf_pp.ntor,\n",
    "    net_poloidal_current_amperes=net_poloidal_current_pp,\n",
    "    net_toroidal_current_amperes=0.,\n",
    "    metric_name='f_max_Phi',\n",
    "    verbose=False,\n",
    "    **quadcoil_kwargs\n",
    ")"
   ]
  },
  {
   "cell_type": "code",
   "execution_count": 16,
   "id": "f9ffa07c",
   "metadata": {},
   "outputs": [
    {
     "data": {
      "text/plain": [
       "{'inner_fin_c': Array(2.4729422e+08, dtype=float32, weak_type=True),\n",
       " 'inner_fin_dl': Array(4.172325e-07, dtype=float32),\n",
       " 'inner_fin_du': Array(7.309015e-08, dtype=float32),\n",
       " 'inner_fin_dx_scaled': Array(0., dtype=float32),\n",
       " 'inner_fin_f': Array(0.7663958, dtype=float32),\n",
       " 'inner_fin_g': Array([0.], dtype=float32),\n",
       " 'inner_fin_grad_f': Array(0.00063908, dtype=float32),\n",
       " 'inner_fin_h': Array([0.], dtype=float32),\n",
       " 'inner_fin_l': Array(0.7663958, dtype=float32),\n",
       " 'inner_fin_lam': Array([0.], dtype=float32),\n",
       " 'inner_fin_mu': Array([97.89438], dtype=float32),\n",
       " 'inner_fin_niter': Array(4, dtype=int32),\n",
       " 'inner_fin_x': Array([-3.09468164e+03, -3.77790497e+02,  1.69624924e+02,  4.94382248e+01,\n",
       "        -2.30909157e+01,  3.12774353e+01, -3.61922989e+01, -1.27804680e+01,\n",
       "         8.80198059e+01,  2.36784668e+02,  2.83745575e+02,  7.01719727e+02,\n",
       "        -3.09829926e+02, -1.67857590e+02,  1.52429361e+01,  1.28217554e+00,\n",
       "        -9.81581783e+00, -4.49811935e+00,  2.18448505e+01, -1.35189152e+01,\n",
       "        -2.25098076e+01,  1.48992355e+02,  8.50316162e+01, -1.32909351e+03,\n",
       "         3.82952576e+02,  4.37551318e+03,  8.96049438e+02,  7.69161911e+01,\n",
       "         7.51289845e-01,  3.04442062e+01,  1.13867893e+01,  3.20428047e+01,\n",
       "        -4.87750511e+01, -1.94035416e+02, -2.74783813e+02, -2.56978638e+02,\n",
       "        -2.21483017e+02,  4.35840302e+02,  4.32868622e+02,  1.62448257e+02,\n",
       "         2.86555405e+01, -4.33429480e+00,  1.83030987e+01,  5.08190231e+01,\n",
       "         1.69831345e+02, -3.08825111e+01,  8.81449509e+01, -6.89245682e+01,\n",
       "         4.92594788e+02,  6.82653442e+02, -4.80729395e+03, -1.06932849e+03,\n",
       "        -4.38898895e+02, -1.63422531e+02,  9.27909698e+01,  1.44108643e+02,\n",
       "         1.22356674e+02,  1.63486267e+02,  2.32779022e+02,  2.28240921e+02,\n",
       "         2.25423172e+02,  3.25508209e+02,  2.27823315e+01, -1.21217163e+02,\n",
       "        -1.29034592e+02, -1.05207001e+02,  5.91301231e+01,  4.02271175e+00,\n",
       "         3.70841904e+01, -1.32539825e+02, -9.47161331e+01,  1.18688614e+02,\n",
       "         8.27787113e+00, -2.77100800e+02, -1.79338211e+02,  2.62825439e+03,\n",
       "         3.89373596e+02,  7.93136047e+02,  1.14124352e+02, -4.28525696e+01,\n",
       "        -1.39776382e+02, -1.08623192e+02, -5.87783546e+01, -1.13658323e+01,\n",
       "         3.57775269e+01,  6.24333992e+01, -2.57343554e+00,  1.52529327e+02,\n",
       "         3.65028191e+01, -4.43491974e+01,  1.24490898e+02,  7.21476746e+01,\n",
       "         1.11897011e+01,  1.42219299e+02,  5.70730286e+01,  2.01437576e+02,\n",
       "         1.93003311e+02, -2.45171005e+02,  4.83235817e+01,  1.02701988e+02,\n",
       "        -1.28929407e+03,  3.99276062e+02, -1.62552307e+02,  3.50477295e+01,\n",
       "        -3.23983693e+00, -7.93341217e+01, -8.13923187e+01, -1.63188461e+02,\n",
       "        -1.93978882e+02, -2.48658279e+02, -3.02572815e+02, -4.39208923e+02,\n",
       "         2.24534187e+01, -5.66904793e+01, -6.06758575e+01, -1.13903297e+02,\n",
       "        -8.59191284e+01, -6.06756783e+01, -7.25037537e+01, -1.54015121e+02,\n",
       "         7.27515717e+01, -3.80049744e+02,  9.32375946e+01,  4.36396362e+02,\n",
       "        -7.99345032e+02,  8.45067825e+01, -3.77842163e+02, -7.84559784e+01,\n",
       "        -2.89493141e+01,  8.55268555e+01,  3.12850006e+02,  2.65033539e+02,\n",
       "         2.04574524e+02,  6.05331802e+01,  4.68963585e+01, -2.66280651e+00,\n",
       "         1.15555626e+02, -6.03170013e+01, -6.46156235e+01, -8.91594696e+00,\n",
       "         1.72034698e+02,  1.34400482e+02,  1.03772179e+02,  1.46908295e+02,\n",
       "         2.16477707e+02, -9.12186432e+01,  4.44756348e+02,  2.49212753e+02,\n",
       "        -2.36304367e+02,  2.05694321e+02,  9.76829468e+02, -9.13038921e+00,\n",
       "        -2.65795166e+02, -4.02817108e+02,  1.06147568e+02,  1.77805557e+02,\n",
       "         1.10848000e+02,  9.89420354e-01,  4.47331467e+01,  3.93897438e+01,\n",
       "         2.00943710e+02,  2.07042007e+02,  4.54209471e+00, -1.60622387e+01,\n",
       "        -5.15664635e+01, -1.55591934e+02, -1.41212601e+02, -1.43407608e+02,\n",
       "        -8.33322067e+01, -1.25871605e+02,  1.34403351e+02, -1.38785126e+02,\n",
       "        -3.89912384e+02,  3.15675446e+02, -1.94137543e+02,  1.81591377e+01,\n",
       "        -8.82403488e+01, -1.07558784e+02,  6.51789368e+02, -1.18533173e+02,\n",
       "        -2.58828773e+01, -1.70027100e+02, -7.87806549e+01,  6.83735657e+01,\n",
       "         1.06268471e+02,  5.47685671e+00,  6.02399864e+01, -1.71959591e+01,\n",
       "        -4.68456078e+01, -4.36871758e+01,  7.40314560e+01,  3.68029861e+01,\n",
       "         2.95020428e+01, -3.26136169e+01, -3.49565468e+01, -6.86779022e+00,\n",
       "        -1.50626511e+02,  1.93509384e+02, -1.83115570e+02,  6.12407379e+01,\n",
       "        -5.16651855e+02,  3.29812988e+02, -1.87017120e+02, -1.34816475e+01,\n",
       "        -6.72930002e+00, -2.14412811e+02,  8.44878235e+01,  3.87417145e+01,\n",
       "         5.42801285e+01, -5.01951485e+01, -2.95969028e+01,  2.28476620e+01,\n",
       "        -4.72238111e+00,  6.16730499e+00, -1.13657227e+01, -4.41289787e+01,\n",
       "        -3.56849518e+01, -1.16549301e+02, -9.20857391e+01, -6.25460472e+01,\n",
       "        -1.21393356e+02,  3.55959010e+00, -6.49490128e+01,  1.06986885e+01,\n",
       "        -1.11820930e+02,  4.71458588e+02, -4.35309937e+02,  3.34690491e+02,\n",
       "        -4.55245743e+01, -9.70439553e-01, -1.94876663e+02, -1.07535583e+02,\n",
       "        -2.26076393e+01, -1.11109123e+01,  9.99444351e+01,  1.03847160e+02,\n",
       "         1.35897491e+02,  1.76541004e+01, -1.84576530e+01, -4.93271751e+01,\n",
       "        -3.36670380e+01, -8.68525009e+01, -2.76410885e+01, -2.26321030e+01,\n",
       "        -1.09897583e+02,  1.29271423e+02, -1.17370964e+02,  3.26549416e+01,\n",
       "         2.90416809e+02, -2.43974457e+01, -6.63625717e+01,  1.86165115e+02,\n",
       "        -3.09567719e+02,  2.56009277e+02, -5.64066544e+01, -4.53742714e+01,\n",
       "        -1.44675919e+02,  1.03954725e+01,  1.46653252e+01, -1.31106310e+01,\n",
       "        -3.07850819e+01,  8.98353672e+00,  3.54700623e+01,  2.58694534e+01,\n",
       "         5.76171541e+00,  2.51526775e+01,  6.86371002e+01, -1.00632126e+02,\n",
       "        -1.87218094e+02, -9.18351135e+01, -2.13982651e+02, -1.84436661e+02,\n",
       "         1.12101540e+02,  3.74043159e+01, -7.21516113e+01,  1.07297020e+02,\n",
       "         5.43862953e+01, -6.80643616e+01, -1.29658798e+02, -8.07204971e+01,\n",
       "        -8.12712936e+01, -3.74833145e+01, -4.92450104e+01,  4.44681263e+00,\n",
       "        -4.38617363e+01,  1.18820477e+01,  4.84719276e+01,  1.99360142e+01,\n",
       "        -7.27502537e+00, -1.11169910e+01, -3.97768440e+01, -1.65655624e+02,\n",
       "        -7.90576935e+01,  1.80650501e+01, -1.24497375e+02,  9.99315414e+01,\n",
       "        -3.32411957e+01, -1.34619202e+02,  1.56007828e+02,  3.88689384e+01,\n",
       "         1.32735016e+02, -6.31471138e+01, -8.20782776e+01, -3.55559540e+01,\n",
       "        -4.21583080e+00, -1.31201340e+02, -2.59739933e+01,  1.34314032e+01,\n",
       "         6.00126190e+01,  1.47529099e+02,  9.99352798e+01,  1.32498703e+02],      dtype=float32),\n",
       " 'outer_df': Array(0., dtype=float32),\n",
       " 'outer_dg': Array(0., dtype=float32),\n",
       " 'outer_dh': Array(0., dtype=float32),\n",
       " 'outer_dx_scaled': Array(9.30164e-08, dtype=float32),\n",
       " 'tot_niter': Array(2850, dtype=int32),\n",
       " 'x_unit': Array(186.89099, dtype=float32)}"
      ]
     },
     "execution_count": 16,
     "metadata": {},
     "output_type": "execute_result"
    }
   ],
   "source": [
    "status"
   ]
  },
  {
   "cell_type": "code",
   "execution_count": 17,
   "id": "f426c204-7785-4214-954c-4b949035a18e",
   "metadata": {},
   "outputs": [
    {
     "name": "stdout",
     "output_type": "stream",
     "text": [
      "f_B from REGCOIL:       7.1017476e-09\n",
      "f_B from QUADCOIL:      7.074614e-09\n",
      "Max dipole dens from REGCOIL:       19648.57\n",
      "Max dipole dens from QUADCOIL:      15058.582 23.36 % improvement\n"
     ]
    },
    {
     "data": {
      "image/png": "[encoded data removed]",
      "text/plain": [
       "<Figure size 1200x400 with 3 Axes>"
      ]
     },
     "metadata": {},
     "output_type": "display_data"
    }
   ],
   "source": [
    "print('f_B from REGCOIL:      ', f_B(regcoili_qp, phi_test_list[i_infl]))\n",
    "print('f_B from QUADCOIL:     ', f_B(qp, phi_mn))\n",
    "# print('f_B from QUADCOIL+DESC:', f_B(qp_obj, phi_mn_obj))\n",
    "f_Phi_crtl = f_max_Phi(regcoili_qp, phi_test_list[i_infl])\n",
    "f_Phi_1 = f_max_Phi(qp, phi_mn)\n",
    "# f_Phi_2 = f_max_Phi(qp_obj, phi_mn_obj)\n",
    "print('Max dipole dens from REGCOIL:      ', f_Phi_crtl)\n",
    "print('Max dipole dens from QUADCOIL:     ', f_Phi_1, round((f_Phi_crtl-f_Phi_1)/f_Phi_crtl*100, 3), '% improvement')\n",
    "# print('Max dipole dens from QUADCOIL+DESC:', f_Phi_2, round((f_Phi_crtl-f_Phi_2)/f_Phi_crtl*100, 3), '% improvement')\n",
    "\n",
    "phi_regcoil = Phi(qp, phi_test_list[i_infl])\n",
    "phi_quadcoil = Phi(qp, phi_mn)\n",
    "# phi_quadcoil2 = Phi(qp, phi_mn_obj)\n",
    "cmin = np.min([phi_regcoil, phi_quadcoil])\n",
    "cmax = np.max([phi_regcoil, phi_quadcoil])\n",
    "\n",
    "fig, axes = plt.subplots(1, 2, figsize=(12, 4), constrained_layout=True)\n",
    "# fig, axes = plt.subplots(1, 3, figsize=(12, 4), constrained_layout=True)\n",
    "\n",
    "# Plot for REGCOIL\n",
    "im0 = axes[0].pcolor(phi_regcoil, vmin=cmin, vmax=cmax)\n",
    "axes[0].set_title('REGCOIL')\n",
    "\n",
    "# Plot for QUADCOIL\n",
    "im1 = axes[1].pcolor(phi_quadcoil, vmin=cmin, vmax=cmax)\n",
    "axes[1].set_title('QUADCOIL')\n",
    "\n",
    "# Plot for QUADCOIL\n",
    "# im1 = axes[2].pcolor(-phi_quadcoil2, vmin=cmin, vmax=cmax)\n",
    "# axes[2].set_title('QUADCOIL_DESC')\n",
    "\n",
    "\n",
    "# Add colorbar with better positioning\n",
    "cbar = fig.colorbar(im1, ax=axes, orientation='vertical', shrink=1., aspect=25, pad=0.05)\n",
    "cbar.set_label(\"Dipole Density\")\n",
    "\n",
    "plt.show()\n"
   ]
  },
  {
   "cell_type": "markdown",
   "id": "a16ad86c-126f-4c04-b28d-5221a653f0bb",
   "metadata": {},
   "source": [
    "# Quasi-single-stage\n",
    "Caoxiang's objective is:\n",
    "```\n",
    "prob = LeastSquaresProblem.from_tuples([(equil.volume, 0.012, 1e6),\n",
    "                                        (equil.iota_axis, 0.18, 1e4),\n",
    "                                        (equil.iota_edge, 0.2, 1e4),\n",
    "                                        (qs.J, 0, 1e7),\n",
    "                                        (reg.J, 0, 1)])\n",
    "```\n",
    "It's easier to do 2-term QS in DESC so we swap out that."
   ]
  },
  {
   "cell_type": "code",
   "execution_count": 18,
   "id": "8ecd813e-5cd1-41c4-8d2d-f07c03f52dbe",
   "metadata": {},
   "outputs": [],
   "source": [
    "A = surf_pp.aspect_ratio()"
   ]
  },
  {
   "cell_type": "code",
   "execution_count": 19,
   "id": "10f6cf82-3cd8-4105-9516-b2216be85679",
   "metadata": {},
   "outputs": [],
   "source": [
    "from desc.grid import LinearGrid\n",
    "from desc.objectives import ObjectiveFunction, ForceBalance, QuasisymmetryTwoTerm, RotationalTransform, QuadcoilProxy, Volume, AspectRatio\n",
    "from desc.optimize import Optimizer"
   ]
  },
  {
   "cell_type": "code",
   "execution_count": 20,
   "id": "6c695777-70eb-4086-b304-97040d0b4dd5",
   "metadata": {},
   "outputs": [
    {
     "name": "stdout",
     "output_type": "stream",
     "text": [
      "Eq resolution 14 12 14\n"
     ]
    }
   ],
   "source": [
    "print('Eq resolution', desc_eq.M_grid, desc_eq.N_grid, desc_eq.L_grid)"
   ]
  },
  {
   "cell_type": "code",
   "execution_count": 21,
   "id": "c7e4e68f-0601-49ae-9fc8-b3052abed149",
   "metadata": {},
   "outputs": [
    {
     "name": "stderr",
     "output_type": "stream",
     "text": [
      "/mnt/c/Work/codes/DESC/desc/objectives/_quadcoil.py:167: UserWarning: Redundant arguments detected: {'plasma_quadpoints_theta', 'plasma_quadpoints_phi'}. These arguments are extracted from the equilibrium, or specified by other parameters. The provided values will be discarded.\n",
      "  warnings.warn(\n"
     ]
    },
    {
     "name": "stdout",
     "output_type": "stream",
     "text": [
      "Precomputing transforms\n"
     ]
    }
   ],
   "source": [
    "quadcoil_objective = QuadcoilProxy(\n",
    "    eq=desc_eq,\n",
    "    quadcoil_args=quadcoil_kwargs,\n",
    "    metric_name=('f_max_Phi',),\n",
    "    metric_target=np.array([0.,]),\n",
    "    metric_weight=np.array([1./unit_Phi,]),\n",
    "    plasma_M_theta=plasma_M_theta,\n",
    "    plasma_N_phi=plasma_N_phi,\n",
    "    normalize=False,\n",
    "    normalize_target=False,\n",
    "    name=\"QUADCOIL Proxy\",\n",
    ")\n",
    "quadcoil_objective.build()"
   ]
  },
  {
   "cell_type": "code",
   "execution_count": 22,
   "id": "37680cdc-f0be-4f27-9d0c-17578d3496c7",
   "metadata": {},
   "outputs": [],
   "source": [
    "import time\n",
    "import jax"
   ]
  },
  {
   "cell_type": "code",
   "execution_count": 23,
   "id": "a879604f-7eae-4600-b7c9-377efd25f4fc",
   "metadata": {},
   "outputs": [
    {
     "name": "stdout",
     "output_type": "stream",
     "text": [
      "objective [11597.685]\n",
      "time: 25.849499464035034\n"
     ]
    }
   ],
   "source": [
    "# Timing quadcoil\n",
    "time1 = time.time()\n",
    "test_f = quadcoil_objective.compute_unscaled(*quadcoil_objective.xs(desc_eq))\n",
    "print('objective', jax.block_until_ready(test_f))\n",
    "time2 = time.time()\n",
    "print('time:', time2-time1)"
   ]
  },
  {
   "cell_type": "code",
   "execution_count": 24,
   "id": "77a3b277-8846-47b0-b29e-58d97a67e2f6",
   "metadata": {},
   "outputs": [
    {
     "name": "stdout",
     "output_type": "stream",
     "text": [
      "objective [11597.685]\n",
      "time: 17.481800317764282\n"
     ]
    }
   ],
   "source": [
    "time1 = time.time()\n",
    "test_f = quadcoil_objective.compute_unscaled(*quadcoil_objective.xs(desc_eq))\n",
    "print('objective', jax.block_until_ready(test_f))\n",
    "time2 = time.time()\n",
    "print('time:', time2-time1)"
   ]
  },
  {
   "cell_type": "code",
   "execution_count": 25,
   "id": "692c12bc-f2f7-40af-bb99-4355c8f3f18a",
   "metadata": {},
   "outputs": [],
   "source": [
    "# Building grids\n",
    "qsgrid = LinearGrid(\n",
    "    M=desc_eq.M_grid, N=desc_eq.N_grid, NFP=desc_eq.NFP, rho=np.array([0.1, 1.0]), sym=True\n",
    ")\n",
    "\n",
    "iotagridaxis = LinearGrid(\n",
    "    M=desc_eq.M_grid, N=desc_eq.N_grid, NFP=desc_eq.NFP, rho=np.array([0.01]), sym=True\n",
    ")\n",
    "\n",
    "iotagridedge = LinearGrid(\n",
    "    M=desc_eq.M_grid, N=desc_eq.N_grid, NFP=desc_eq.NFP, rho=np.array([1.0]), sym=True\n",
    ")\n",
    "\n",
    "constraints = (\n",
    "    ForceBalance(eq=desc_eq),\n",
    ")\n",
    "\n",
    "objective = ObjectiveFunction((\n",
    "    Volume(eq=desc_eq, target=0.012),\n",
    "    AspectRatio(\n",
    "        eq=desc_eq,\n",
    "        target=A,\n",
    "        weight=1,\n",
    "    ),\n",
    "    QuasisymmetryTwoTerm(\n",
    "        eq=desc_eq,\n",
    "        helicity=(1, 0), # QA\n",
    "        grid=qsgrid,\n",
    "    ),\n",
    "    # Axis rotational transform\n",
    "    RotationalTransform(\n",
    "        eq=desc_eq,\n",
    "        target=0.18,\n",
    "        weight=1,\n",
    "        grid=iotagridaxis,\n",
    "    ),\n",
    "    # Edge rotational transform\n",
    "    RotationalTransform(\n",
    "        eq=desc_eq,\n",
    "        target=0.2,\n",
    "        weight=1,\n",
    "        grid=iotagridedge,\n",
    "    ),\n",
    "    quadcoil_objective\n",
    "))\n"
   ]
  },
  {
   "cell_type": "code",
   "execution_count": null,
   "id": "ffcfa5e2-ef29-4002-90dd-155bf8dd6395",
   "metadata": {},
   "outputs": [],
   "source": [
    "optimizer = Optimizer(\"lsq-auglag\")\n",
    "if not os.path.exists('error_eq.h5'):\n",
    "    eqa, history = desc_eq.optimize(\n",
    "        objective=objective,\n",
    "        constraints=constraints,\n",
    "        optimizer=optimizer,\n",
    "        # each iteration of the augmented Lagrangian optimizer is cheaper than a step of a\n",
    "        # proximal optimizer, but it generally requires more iterations to converge\n",
    "        maxiter=1, # For now fails at iter #2\n",
    "        copy=True,\n",
    "        verbose=3,\n",
    "        options={},\n",
    "    )\n",
    "    eqa.save('error_eq.h5')\n",
    "else:\n",
    "    eqa = desc.io.load(\"error_eq.h5\")"
   ]
  },
  {
   "cell_type": "code",
   "execution_count": 27,
   "id": "aa2ba2e1-7aaa-4f7c-b53a-372091119938",
   "metadata": {},
   "outputs": [
    {
     "name": "stdout",
     "output_type": "stream",
     "text": [
      "Building objective: volume\n",
      "Precomputing transforms\n",
      "Timer: Precomputing transforms = 883 ms\n",
      "Building objective: aspect ratio\n",
      "Precomputing transforms\n",
      "Timer: Precomputing transforms = 55.8 ms\n",
      "Building objective: QS two-term\n",
      "Precomputing transforms\n",
      "Timer: Precomputing transforms = 630 ms\n",
      "Building objective: rotational transform\n",
      "Precomputing transforms\n",
      "Timer: Precomputing transforms = 602 ms\n",
      "Building objective: rotational transform\n",
      "Precomputing transforms\n",
      "Timer: Precomputing transforms = 32.4 ms\n",
      "Timer: Objective build = 3.21 sec\n",
      "Building objective: self_consistency R\n",
      "Building objective: self_consistency Z\n",
      "Building objective: lambda gauge\n",
      "Building objective: axis R self consistency\n",
      "Building objective: axis Z self consistency\n",
      "Timer: Objective build = 366 ms\n",
      "Building objective: force\n",
      "Precomputing transforms\n",
      "Timer: Precomputing transforms = 761 ms\n",
      "Timer: Objective build = 855 ms\n",
      "Timer: LinearConstraintProjection build = 7.48 sec\n",
      "Timer: LinearConstraintProjection build = 151 ms\n",
      "Number of parameters: 899\n",
      "Number of objectives: 755\n",
      "Number of equality constraints: 3200\n",
      "Number of inequality constraints: 0\n",
      "Timer: Initializing the optimization = 12.3 sec\n",
      "\n",
      "Starting optimization\n",
      "Using method: lsq-auglag\n",
      "   Iteration     Total nfev        Cost      Cost reduction    Step norm     Optimality    Constr viol.   Penalty param  max(|mltplr|) \n",
      "       0              1          6.684e+07                                    1.156e+04      6.272e-02      1.000e+01      0.000e+00   \n",
      "       1              9          6.684e+07      0.000e+00      0.000e+00      1.156e+04      6.272e-02      1.000e+01      0.000e+00   \n",
      "Warning: A bad approximation caused failure to predict improvement.\n",
      "         Current function value: 6.684e+07\n",
      "         Constraint violation: 6.272e-02\n",
      "         Total delta_x: 0.000e+00\n",
      "         Iterations: 1\n",
      "         Function evaluations: 9\n",
      "         Jacobian evaluations: 0\n",
      "Timer: Solution time = 3.66 min\n",
      "Timer: Avg time per step = 1.83 min\n",
      "==============================================================================================================\n",
      "                                                                 Start  -->   End\n",
      "Total (sum of squares):                                      6.725e+07  -->   6.684e+07, \n",
      "Plasma volume:                                               1.200e-02  -->   1.200e-02 (m^3)\n",
      "Plasma volume:                                              -6.501e-05  -->  -6.501e-05 (normalized error)\n",
      "Aspect ratio:                                                6.935e+00  -->   6.935e+00 (dimensionless)\n",
      "Maximum absolute Quasi-symmetry (1,0) two-term error:        1.650e-03  -->   1.650e-03 (T^3)\n",
      "Minimum absolute Quasi-symmetry (1,0) two-term error:        2.401e-08  -->   2.511e-08 (T^3)\n",
      "Average absolute Quasi-symmetry (1,0) two-term error:        1.216e-04  -->   1.216e-04 (T^3)\n",
      "Maximum absolute Quasi-symmetry (1,0) two-term error:        4.653e-01  -->   4.653e-01 (normalized)\n",
      "Minimum absolute Quasi-symmetry (1,0) two-term error:        6.770e-06  -->   7.078e-06 (normalized)\n",
      "Average absolute Quasi-symmetry (1,0) two-term error:        3.428e-02  -->   3.428e-02 (normalized)\n",
      "Maximum Rotational transform:                               -1.966e-01  -->  -1.966e-01 (dimensionless)\n",
      "Minimum Rotational transform:                               -1.966e-01  -->  -1.966e-01 (dimensionless)\n",
      "Average Rotational transform:                               -1.966e-01  -->  -1.966e-01 (dimensionless)\n",
      "Maximum Rotational transform:                               -1.900e-01  -->  -1.900e-01 (dimensionless)\n",
      "Minimum Rotational transform:                               -1.900e-01  -->  -1.900e-01 (dimensionless)\n",
      "Average Rotational transform:                               -1.900e-01  -->  -1.900e-01 (dimensionless)\n",
      "Maximum absolute QUADCOIL subproblem:                        1.160e+04  -->   1.156e+04 N/A\n",
      "Minimum absolute QUADCOIL subproblem:                        1.160e+04  -->   1.156e+04 N/A\n",
      "Average absolute QUADCOIL subproblem:                        1.160e+04  -->   1.156e+04 N/A\n",
      "Maximum absolute Force error:                                6.989e+02  -->   6.990e+02 (N)\n",
      "Minimum absolute Force error:                                1.618e-04  -->   7.827e-05 (N)\n",
      "Average absolute Force error:                                1.140e+01  -->   1.140e+01 (N)\n",
      "Maximum absolute Force error:                                2.730e-01  -->   2.730e-01 (normalized)\n",
      "Minimum absolute Force error:                                6.321e-08  -->   3.057e-08 (normalized)\n",
      "Average absolute Force error:                                4.453e-03  -->   4.453e-03 (normalized)\n",
      "==============================================================================================================\n"
     ]
    }
   ],
   "source": [
    "optimizer = Optimizer(\"lsq-auglag\")\n",
    "if not os.path.exists('test_eq.h5'):\n",
    "    eqb, history = desc_eq.optimize(\n",
    "        objective=objective,\n",
    "        constraints=constraints,\n",
    "        optimizer=optimizer,\n",
    "        # each iteration of the augmented Lagrangian optimizer is cheaper than a step of a\n",
    "        # proximal optimizer, but it generally requires more iterations to converge\n",
    "        maxiter=100, # For now fails at iter #2\n",
    "        copy=True,\n",
    "        verbose=3,\n",
    "        options={},\n",
    "    )\n",
    "    eqb.save('test_eq.h5')\n",
    "else:\n",
    "    eqb = desc.io.load(\"test_eq.h5\")"
   ]
  },
  {
   "cell_type": "code",
   "execution_count": null,
   "id": "6f3aad1d-34f1-47f7-8f80-88821a118cd1",
   "metadata": {},
   "outputs": [],
   "source": [
    "import desc"
   ]
  },
  {
   "cell_type": "code",
   "execution_count": null,
   "id": "df69fa1a-4a3b-43b8-974d-73241a82eb41",
   "metadata": {},
   "outputs": [],
   "source": [
    "desc.plotting.plot_surfaces(eqa)"
   ]
  },
  {
   "cell_type": "code",
   "execution_count": null,
   "id": "53eb174f-23dd-446e-b66c-b28a1508edc1",
   "metadata": {},
   "outputs": [],
   "source": [
    "time1 = time.time()\n",
    "test_f = quadcoil_objective.compute_unscaled(*quadcoil_objective.xs(eqa))\n",
    "print('objective', jax.block_until_ready(test_f))\n",
    "time2 = time.time()\n",
    "print('time:', time2-time1)"
   ]
  },
  {
   "cell_type": "code",
   "execution_count": null,
   "id": "69d955a0-3a9c-4da1-bcda-e4490e1d6316",
   "metadata": {},
   "outputs": [],
   "source": []
  }
 ],
 "metadata": {
  "kernelspec": {
   "display_name": "stellarator",
   "language": "python",
   "name": "python3"
  },
  "language_info": {
   "codemirror_mode": {
    "name": "ipython",
    "version": 3
   },
   "file_extension": ".py",
   "mimetype": "text/x-python",
   "name": "python",
   "nbconvert_exporter": "python",
   "pygments_lexer": "ipython3",
   "version": "3.10.16"
  }
 },
 "nbformat": 4,
 "nbformat_minor": 5
}
