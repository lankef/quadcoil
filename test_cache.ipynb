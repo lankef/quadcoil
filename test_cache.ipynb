{
 "cells": [
  {
   "cell_type": "code",
   "execution_count": 1,
   "metadata": {},
   "outputs": [],
   "source": [
    "import jax.numpy as jnp\n",
    "import numpy as np\n",
    "from functools import partial, lru_cache\n",
    "from jax import jit, tree_util, block_until_ready\n",
    "import time\n",
    "from jax.scipy.special import factorial"
   ]
  },
  {
   "cell_type": "code",
   "execution_count": 8,
   "metadata": {},
   "outputs": [],
   "source": [
    "@tree_util.register_pytree_node_class\n",
    "class TestClass:\n",
    "    def __init__(self, a):\n",
    "        self.a = a\n",
    "        self.b = a @ a @ a @ a @ a\n",
    "    \n",
    "    @jit\n",
    "    def b_eval(self):\n",
    "        a = self.a\n",
    "        return a @ a @ a @ a @ a\n",
    "\n",
    "    @lru_cache(maxsize=None)\n",
    "    @jit\n",
    "    def use_b_non_cache(self):\n",
    "        return self.b_eval() + 1\n",
    "\n",
    "    def use_b_cache(self):\n",
    "        return self.b + 1\n",
    "\n",
    "    ''' JAX prereqs '''\n",
    "    \n",
    "    def tree_flatten(self):\n",
    "        children = (\n",
    "            self.a,\n",
    "            self.b,\n",
    "        )\n",
    "        aux_data = {}\n",
    "        return children, aux_data\n",
    "\n",
    "    @classmethod\n",
    "    def tree_unflatten(cls, aux_data, children):\n",
    "        return cls(a=children[0])"
   ]
  },
  {
   "cell_type": "code",
   "execution_count": 9,
   "metadata": {},
   "outputs": [],
   "source": [
    "a_test = np.random.random((5000, 5000))\n",
    "t = TestClass(a_test)"
   ]
  },
  {
   "cell_type": "code",
   "execution_count": 10,
   "metadata": {},
   "outputs": [
    {
     "name": "stdout",
     "output_type": "stream",
     "text": [
      "time 4.4910888671875 b[0,0] 19741354000000.0\n",
      "time 1.430511474609375e-05 b[0,0] 19741354000000.0\n",
      "time 8.821487426757812e-06 b[0,0] 19741354000000.0\n",
      "time 7.152557373046875e-06 b[0,0] 19741354000000.0\n",
      "time 6.4373016357421875e-06 b[0,0] 19741354000000.0\n"
     ]
    }
   ],
   "source": [
    "# Timing repeated b_eval()\n",
    "for i in range(5):\n",
    "    time1 = time.time()\n",
    "    b_test = block_until_ready(t.use_b_non_cache())\n",
    "    time2 = time.time()\n",
    "    print('time', time2-time1, 'b[0,0]', b_test[0, 0])\n",
    "    "
   ]
  },
  {
   "cell_type": "code",
   "execution_count": 17,
   "metadata": {},
   "outputs": [
    {
     "name": "stdout",
     "output_type": "stream",
     "text": [
      "time 0.36299991607666016 b[0,0] 19354532862541.535\n",
      "time 0.16297221183776855 b[0,0] 19354532862541.535\n",
      "time 0.25149011611938477 b[0,0] 19354532862541.535\n",
      "time 0.3062417507171631 b[0,0] 19354532862541.535\n",
      "time 0.32625699043273926 b[0,0] 19354532862541.535\n"
     ]
    }
   ],
   "source": [
    "# Testing repeated t.b (cache reading)\n",
    "for i in range(5):\n",
    "    time1 = time.time()\n",
    "    b_test = block_until_ready(t.use_b_cache())\n",
    "    time2 = time.time()\n",
    "    print('time', time2-time1, 'b[0,0]', b_test[0, 0])\n",
    "    "
   ]
  },
  {
   "cell_type": "code",
   "execution_count": null,
   "metadata": {},
   "outputs": [],
   "source": [
    "# Testing repeated use of t.b"
   ]
  }
 ],
 "metadata": {
  "kernelspec": {
   "display_name": "stellarator",
   "language": "python",
   "name": "python3"
  },
  "language_info": {
   "codemirror_mode": {
    "name": "ipython",
    "version": 3
   },
   "file_extension": ".py",
   "mimetype": "text/x-python",
   "name": "python",
   "nbconvert_exporter": "python",
   "pygments_lexer": "ipython3",
   "version": "3.13.1"
  }
 },
 "nbformat": 4,
 "nbformat_minor": 2
}
